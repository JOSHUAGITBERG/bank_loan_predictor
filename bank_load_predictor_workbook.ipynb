{
 "cells": [
  {
   "cell_type": "code",
   "execution_count": 9,
   "id": "207eb277",
   "metadata": {},
   "outputs": [],
   "source": [
    "import pandas as pd\n",
    "import numpy as np\n",
    "\n",
    "\n",
    "from sklearn.svm import SVC\n",
    "from sklearn.neighbors import KNeighborsClassifier\n",
    "from sklearn.linear_model import LogisticRegression\n",
    "from sklearn.tree import DecisionTreeClassifier\n",
    "from sklearn.model_selection import train_test_split, GridSearchCV, RandomizedSearchCV\n",
    "from sklearn.preprocessing import StandardScaler\n",
    "from sklearn.pipeline import Pipeline\n",
    "from sklearn.metrics import confusion_matrix, classification_report, ConfusionMatrixDisplay, recall_score\n",
    "from sklearn.model_selection import GridSearchCV\n",
    "from sklearn import metrics\n",
    "\n",
    "\n",
    "import matplotlib.pyplot as plt\n",
    "import seaborn as sns\n"
   ]
  },
  {
   "cell_type": "code",
   "execution_count": 10,
   "id": "e1857120",
   "metadata": {},
   "outputs": [],
   "source": [
    "df=pd.read_csv('Downloads/bank+marketing/bank/bank-full.csv',sep=';')"
   ]
  },
  {
   "cell_type": "code",
   "execution_count": 11,
   "id": "cb3d0306",
   "metadata": {},
   "outputs": [
    {
     "data": {
      "text/plain": [
       "Index(['age', 'job', 'marital', 'education', 'default', 'balance', 'housing',\n",
       "       'loan', 'contact', 'day', 'month', 'duration', 'campaign', 'pdays',\n",
       "       'previous', 'poutcome', 'y'],\n",
       "      dtype='object')"
      ]
     },
     "execution_count": 11,
     "metadata": {},
     "output_type": "execute_result"
    }
   ],
   "source": [
    "df.columns\n"
   ]
  },
  {
   "cell_type": "code",
   "execution_count": 12,
   "id": "fb594952",
   "metadata": {},
   "outputs": [
    {
     "name": "stdout",
     "output_type": "stream",
     "text": [
      "<class 'pandas.core.frame.DataFrame'>\n",
      "RangeIndex: 45211 entries, 0 to 45210\n",
      "Data columns (total 17 columns):\n",
      " #   Column     Non-Null Count  Dtype \n",
      "---  ------     --------------  ----- \n",
      " 0   age        45211 non-null  int64 \n",
      " 1   job        45211 non-null  object\n",
      " 2   marital    45211 non-null  object\n",
      " 3   education  45211 non-null  object\n",
      " 4   default    45211 non-null  object\n",
      " 5   balance    45211 non-null  int64 \n",
      " 6   housing    45211 non-null  object\n",
      " 7   loan       45211 non-null  object\n",
      " 8   contact    45211 non-null  object\n",
      " 9   day        45211 non-null  int64 \n",
      " 10  month      45211 non-null  object\n",
      " 11  duration   45211 non-null  int64 \n",
      " 12  campaign   45211 non-null  int64 \n",
      " 13  pdays      45211 non-null  int64 \n",
      " 14  previous   45211 non-null  int64 \n",
      " 15  poutcome   45211 non-null  object\n",
      " 16  y          45211 non-null  object\n",
      "dtypes: int64(7), object(10)\n",
      "memory usage: 5.9+ MB\n"
     ]
    }
   ],
   "source": [
    "df.info()"
   ]
  },
  {
   "cell_type": "code",
   "execution_count": 13,
   "id": "9c68983c",
   "metadata": {},
   "outputs": [
    {
     "data": {
      "text/plain": [
       "1     17544\n",
       "2     12505\n",
       "3      5521\n",
       "4      3522\n",
       "5      1764\n",
       "6      1291\n",
       "7       735\n",
       "8       540\n",
       "9       327\n",
       "10      266\n",
       "11      201\n",
       "12      155\n",
       "13      133\n",
       "14       93\n",
       "15       84\n",
       "16       79\n",
       "17       69\n",
       "18       51\n",
       "19       44\n",
       "20       43\n",
       "21       35\n",
       "22       23\n",
       "25       22\n",
       "23       22\n",
       "24       20\n",
       "29       16\n",
       "28       16\n",
       "26       13\n",
       "31       12\n",
       "27       10\n",
       "32        9\n",
       "30        8\n",
       "33        6\n",
       "34        5\n",
       "36        4\n",
       "35        4\n",
       "43        3\n",
       "38        3\n",
       "37        2\n",
       "50        2\n",
       "41        2\n",
       "46        1\n",
       "58        1\n",
       "55        1\n",
       "63        1\n",
       "51        1\n",
       "39        1\n",
       "44        1\n",
       "Name: campaign, dtype: int64"
      ]
     },
     "execution_count": 13,
     "metadata": {},
     "output_type": "execute_result"
    }
   ],
   "source": [
    "# will have to treat jobs as a categorical variable\n",
    "df['campaign'].value_counts()"
   ]
  },
  {
   "cell_type": "code",
   "execution_count": 14,
   "id": "e0957de3",
   "metadata": {},
   "outputs": [
    {
     "data": {
      "text/html": [
       "<div>\n",
       "<style scoped>\n",
       "    .dataframe tbody tr th:only-of-type {\n",
       "        vertical-align: middle;\n",
       "    }\n",
       "\n",
       "    .dataframe tbody tr th {\n",
       "        vertical-align: top;\n",
       "    }\n",
       "\n",
       "    .dataframe thead th {\n",
       "        text-align: right;\n",
       "    }\n",
       "</style>\n",
       "<table border=\"1\" class=\"dataframe\">\n",
       "  <thead>\n",
       "    <tr style=\"text-align: right;\">\n",
       "      <th></th>\n",
       "      <th>age</th>\n",
       "      <th>job</th>\n",
       "      <th>marital</th>\n",
       "      <th>education</th>\n",
       "      <th>default</th>\n",
       "      <th>balance</th>\n",
       "      <th>housing</th>\n",
       "      <th>loan</th>\n",
       "      <th>contact</th>\n",
       "      <th>day</th>\n",
       "      <th>month</th>\n",
       "      <th>duration</th>\n",
       "      <th>campaign</th>\n",
       "      <th>pdays</th>\n",
       "      <th>previous</th>\n",
       "      <th>poutcome</th>\n",
       "      <th>y</th>\n",
       "    </tr>\n",
       "  </thead>\n",
       "  <tbody>\n",
       "    <tr>\n",
       "      <th>0</th>\n",
       "      <td>58</td>\n",
       "      <td>management</td>\n",
       "      <td>married</td>\n",
       "      <td>tertiary</td>\n",
       "      <td>0</td>\n",
       "      <td>2143</td>\n",
       "      <td>1</td>\n",
       "      <td>0</td>\n",
       "      <td>unknown</td>\n",
       "      <td>5</td>\n",
       "      <td>may</td>\n",
       "      <td>261</td>\n",
       "      <td>1</td>\n",
       "      <td>-1</td>\n",
       "      <td>0</td>\n",
       "      <td>unknown</td>\n",
       "      <td>0</td>\n",
       "    </tr>\n",
       "    <tr>\n",
       "      <th>1</th>\n",
       "      <td>44</td>\n",
       "      <td>technician</td>\n",
       "      <td>single</td>\n",
       "      <td>secondary</td>\n",
       "      <td>0</td>\n",
       "      <td>29</td>\n",
       "      <td>1</td>\n",
       "      <td>0</td>\n",
       "      <td>unknown</td>\n",
       "      <td>5</td>\n",
       "      <td>may</td>\n",
       "      <td>151</td>\n",
       "      <td>1</td>\n",
       "      <td>-1</td>\n",
       "      <td>0</td>\n",
       "      <td>unknown</td>\n",
       "      <td>0</td>\n",
       "    </tr>\n",
       "    <tr>\n",
       "      <th>2</th>\n",
       "      <td>33</td>\n",
       "      <td>entrepreneur</td>\n",
       "      <td>married</td>\n",
       "      <td>secondary</td>\n",
       "      <td>0</td>\n",
       "      <td>2</td>\n",
       "      <td>1</td>\n",
       "      <td>1</td>\n",
       "      <td>unknown</td>\n",
       "      <td>5</td>\n",
       "      <td>may</td>\n",
       "      <td>76</td>\n",
       "      <td>1</td>\n",
       "      <td>-1</td>\n",
       "      <td>0</td>\n",
       "      <td>unknown</td>\n",
       "      <td>0</td>\n",
       "    </tr>\n",
       "    <tr>\n",
       "      <th>3</th>\n",
       "      <td>47</td>\n",
       "      <td>blue-collar</td>\n",
       "      <td>married</td>\n",
       "      <td>unknown</td>\n",
       "      <td>0</td>\n",
       "      <td>1506</td>\n",
       "      <td>1</td>\n",
       "      <td>0</td>\n",
       "      <td>unknown</td>\n",
       "      <td>5</td>\n",
       "      <td>may</td>\n",
       "      <td>92</td>\n",
       "      <td>1</td>\n",
       "      <td>-1</td>\n",
       "      <td>0</td>\n",
       "      <td>unknown</td>\n",
       "      <td>0</td>\n",
       "    </tr>\n",
       "    <tr>\n",
       "      <th>4</th>\n",
       "      <td>33</td>\n",
       "      <td>unknown</td>\n",
       "      <td>single</td>\n",
       "      <td>unknown</td>\n",
       "      <td>0</td>\n",
       "      <td>1</td>\n",
       "      <td>0</td>\n",
       "      <td>0</td>\n",
       "      <td>unknown</td>\n",
       "      <td>5</td>\n",
       "      <td>may</td>\n",
       "      <td>198</td>\n",
       "      <td>1</td>\n",
       "      <td>-1</td>\n",
       "      <td>0</td>\n",
       "      <td>unknown</td>\n",
       "      <td>0</td>\n",
       "    </tr>\n",
       "  </tbody>\n",
       "</table>\n",
       "</div>"
      ],
      "text/plain": [
       "   age           job  marital  education  default  balance  housing  loan  \\\n",
       "0   58    management  married   tertiary        0     2143        1     0   \n",
       "1   44    technician   single  secondary        0       29        1     0   \n",
       "2   33  entrepreneur  married  secondary        0        2        1     1   \n",
       "3   47   blue-collar  married    unknown        0     1506        1     0   \n",
       "4   33       unknown   single    unknown        0        1        0     0   \n",
       "\n",
       "   contact  day month  duration  campaign  pdays  previous poutcome  y  \n",
       "0  unknown    5   may       261         1     -1         0  unknown  0  \n",
       "1  unknown    5   may       151         1     -1         0  unknown  0  \n",
       "2  unknown    5   may        76         1     -1         0  unknown  0  \n",
       "3  unknown    5   may        92         1     -1         0  unknown  0  \n",
       "4  unknown    5   may       198         1     -1         0  unknown  0  "
      ]
     },
     "execution_count": 14,
     "metadata": {},
     "output_type": "execute_result"
    }
   ],
   "source": [
    "#Convert binary features to a numerical form\n",
    "df['default']=df.default.map(dict(yes=1,no=0))\n",
    "df['housing']=df.housing.map(dict(yes=1,no=0))\n",
    "df['loan']=df.loan.map(dict(yes=1,no=0))\n",
    "df['y']=df.y.map(dict(yes=1,no=0))\n",
    "df.head()"
   ]
  },
  {
   "cell_type": "code",
   "execution_count": 15,
   "id": "36417790",
   "metadata": {},
   "outputs": [
    {
     "data": {
      "text/plain": [
       "1    32191\n",
       "0    13020\n",
       "Name: contact, dtype: int64"
      ]
     },
     "execution_count": 15,
     "metadata": {},
     "output_type": "execute_result"
    }
   ],
   "source": [
    "# change contact to a numerical type.  blend cellular and telephone to establish a binary\n",
    "df['contact']=df.contact.map(dict({'cellular':1,'unknown':0,'telephone':1}))\n",
    "df['contact'].value_counts()"
   ]
  },
  {
   "cell_type": "code",
   "execution_count": 16,
   "id": "5d890e2d",
   "metadata": {},
   "outputs": [
    {
     "data": {
      "text/html": [
       "<div>\n",
       "<style scoped>\n",
       "    .dataframe tbody tr th:only-of-type {\n",
       "        vertical-align: middle;\n",
       "    }\n",
       "\n",
       "    .dataframe tbody tr th {\n",
       "        vertical-align: top;\n",
       "    }\n",
       "\n",
       "    .dataframe thead th {\n",
       "        text-align: right;\n",
       "    }\n",
       "</style>\n",
       "<table border=\"1\" class=\"dataframe\">\n",
       "  <thead>\n",
       "    <tr style=\"text-align: right;\">\n",
       "      <th></th>\n",
       "      <th>age</th>\n",
       "      <th>job</th>\n",
       "      <th>marital</th>\n",
       "      <th>education</th>\n",
       "      <th>default</th>\n",
       "      <th>balance</th>\n",
       "      <th>housing</th>\n",
       "      <th>loan</th>\n",
       "      <th>contact</th>\n",
       "      <th>day</th>\n",
       "      <th>month</th>\n",
       "      <th>duration</th>\n",
       "      <th>campaign</th>\n",
       "      <th>pdays</th>\n",
       "      <th>previous</th>\n",
       "      <th>poutcome</th>\n",
       "      <th>y</th>\n",
       "    </tr>\n",
       "  </thead>\n",
       "  <tbody>\n",
       "    <tr>\n",
       "      <th>0</th>\n",
       "      <td>58</td>\n",
       "      <td>management</td>\n",
       "      <td>married</td>\n",
       "      <td>tertiary</td>\n",
       "      <td>0</td>\n",
       "      <td>2143</td>\n",
       "      <td>1</td>\n",
       "      <td>0</td>\n",
       "      <td>0</td>\n",
       "      <td>5</td>\n",
       "      <td>5</td>\n",
       "      <td>261</td>\n",
       "      <td>1</td>\n",
       "      <td>-1</td>\n",
       "      <td>0</td>\n",
       "      <td>unknown</td>\n",
       "      <td>0</td>\n",
       "    </tr>\n",
       "    <tr>\n",
       "      <th>1</th>\n",
       "      <td>44</td>\n",
       "      <td>technician</td>\n",
       "      <td>single</td>\n",
       "      <td>secondary</td>\n",
       "      <td>0</td>\n",
       "      <td>29</td>\n",
       "      <td>1</td>\n",
       "      <td>0</td>\n",
       "      <td>0</td>\n",
       "      <td>5</td>\n",
       "      <td>5</td>\n",
       "      <td>151</td>\n",
       "      <td>1</td>\n",
       "      <td>-1</td>\n",
       "      <td>0</td>\n",
       "      <td>unknown</td>\n",
       "      <td>0</td>\n",
       "    </tr>\n",
       "    <tr>\n",
       "      <th>2</th>\n",
       "      <td>33</td>\n",
       "      <td>entrepreneur</td>\n",
       "      <td>married</td>\n",
       "      <td>secondary</td>\n",
       "      <td>0</td>\n",
       "      <td>2</td>\n",
       "      <td>1</td>\n",
       "      <td>1</td>\n",
       "      <td>0</td>\n",
       "      <td>5</td>\n",
       "      <td>5</td>\n",
       "      <td>76</td>\n",
       "      <td>1</td>\n",
       "      <td>-1</td>\n",
       "      <td>0</td>\n",
       "      <td>unknown</td>\n",
       "      <td>0</td>\n",
       "    </tr>\n",
       "    <tr>\n",
       "      <th>3</th>\n",
       "      <td>47</td>\n",
       "      <td>blue-collar</td>\n",
       "      <td>married</td>\n",
       "      <td>unknown</td>\n",
       "      <td>0</td>\n",
       "      <td>1506</td>\n",
       "      <td>1</td>\n",
       "      <td>0</td>\n",
       "      <td>0</td>\n",
       "      <td>5</td>\n",
       "      <td>5</td>\n",
       "      <td>92</td>\n",
       "      <td>1</td>\n",
       "      <td>-1</td>\n",
       "      <td>0</td>\n",
       "      <td>unknown</td>\n",
       "      <td>0</td>\n",
       "    </tr>\n",
       "    <tr>\n",
       "      <th>4</th>\n",
       "      <td>33</td>\n",
       "      <td>unknown</td>\n",
       "      <td>single</td>\n",
       "      <td>unknown</td>\n",
       "      <td>0</td>\n",
       "      <td>1</td>\n",
       "      <td>0</td>\n",
       "      <td>0</td>\n",
       "      <td>0</td>\n",
       "      <td>5</td>\n",
       "      <td>5</td>\n",
       "      <td>198</td>\n",
       "      <td>1</td>\n",
       "      <td>-1</td>\n",
       "      <td>0</td>\n",
       "      <td>unknown</td>\n",
       "      <td>0</td>\n",
       "    </tr>\n",
       "  </tbody>\n",
       "</table>\n",
       "</div>"
      ],
      "text/plain": [
       "   age           job  marital  education  default  balance  housing  loan  \\\n",
       "0   58    management  married   tertiary        0     2143        1     0   \n",
       "1   44    technician   single  secondary        0       29        1     0   \n",
       "2   33  entrepreneur  married  secondary        0        2        1     1   \n",
       "3   47   blue-collar  married    unknown        0     1506        1     0   \n",
       "4   33       unknown   single    unknown        0        1        0     0   \n",
       "\n",
       "   contact  day  month  duration  campaign  pdays  previous poutcome  y  \n",
       "0        0    5      5       261         1     -1         0  unknown  0  \n",
       "1        0    5      5       151         1     -1         0  unknown  0  \n",
       "2        0    5      5        76         1     -1         0  unknown  0  \n",
       "3        0    5      5        92         1     -1         0  unknown  0  \n",
       "4        0    5      5       198         1     -1         0  unknown  0  "
      ]
     },
     "execution_count": 16,
     "metadata": {},
     "output_type": "execute_result"
    }
   ],
   "source": [
    "#Convert months from string to int\n",
    "df['month']=df.month.map(dict({'jan':1,'feb':2,'mar':3,'apr':4,'may':5,'jun':6,'jul':7,'aug':8,'sep':9,'oct':10,'nov':11,'dec':12}))\n",
    "df.head()"
   ]
  },
  {
   "cell_type": "code",
   "execution_count": 17,
   "id": "2691adba",
   "metadata": {},
   "outputs": [
    {
     "data": {
      "text/html": [
       "<div>\n",
       "<style scoped>\n",
       "    .dataframe tbody tr th:only-of-type {\n",
       "        vertical-align: middle;\n",
       "    }\n",
       "\n",
       "    .dataframe tbody tr th {\n",
       "        vertical-align: top;\n",
       "    }\n",
       "\n",
       "    .dataframe thead th {\n",
       "        text-align: right;\n",
       "    }\n",
       "</style>\n",
       "<table border=\"1\" class=\"dataframe\">\n",
       "  <thead>\n",
       "    <tr style=\"text-align: right;\">\n",
       "      <th></th>\n",
       "      <th>age</th>\n",
       "      <th>job</th>\n",
       "      <th>marital</th>\n",
       "      <th>education</th>\n",
       "      <th>default</th>\n",
       "      <th>balance</th>\n",
       "      <th>housing</th>\n",
       "      <th>loan</th>\n",
       "      <th>contact</th>\n",
       "      <th>day</th>\n",
       "      <th>month</th>\n",
       "      <th>duration</th>\n",
       "      <th>campaign</th>\n",
       "      <th>pdays</th>\n",
       "      <th>previous</th>\n",
       "      <th>poutcome</th>\n",
       "      <th>y</th>\n",
       "    </tr>\n",
       "  </thead>\n",
       "  <tbody>\n",
       "    <tr>\n",
       "      <th>0</th>\n",
       "      <td>58</td>\n",
       "      <td>management</td>\n",
       "      <td>married</td>\n",
       "      <td>tertiary</td>\n",
       "      <td>0</td>\n",
       "      <td>2143</td>\n",
       "      <td>1</td>\n",
       "      <td>0</td>\n",
       "      <td>0</td>\n",
       "      <td>5</td>\n",
       "      <td>5</td>\n",
       "      <td>261</td>\n",
       "      <td>1</td>\n",
       "      <td>-1</td>\n",
       "      <td>0</td>\n",
       "      <td>0</td>\n",
       "      <td>0</td>\n",
       "    </tr>\n",
       "    <tr>\n",
       "      <th>1</th>\n",
       "      <td>44</td>\n",
       "      <td>technician</td>\n",
       "      <td>single</td>\n",
       "      <td>secondary</td>\n",
       "      <td>0</td>\n",
       "      <td>29</td>\n",
       "      <td>1</td>\n",
       "      <td>0</td>\n",
       "      <td>0</td>\n",
       "      <td>5</td>\n",
       "      <td>5</td>\n",
       "      <td>151</td>\n",
       "      <td>1</td>\n",
       "      <td>-1</td>\n",
       "      <td>0</td>\n",
       "      <td>0</td>\n",
       "      <td>0</td>\n",
       "    </tr>\n",
       "    <tr>\n",
       "      <th>2</th>\n",
       "      <td>33</td>\n",
       "      <td>entrepreneur</td>\n",
       "      <td>married</td>\n",
       "      <td>secondary</td>\n",
       "      <td>0</td>\n",
       "      <td>2</td>\n",
       "      <td>1</td>\n",
       "      <td>1</td>\n",
       "      <td>0</td>\n",
       "      <td>5</td>\n",
       "      <td>5</td>\n",
       "      <td>76</td>\n",
       "      <td>1</td>\n",
       "      <td>-1</td>\n",
       "      <td>0</td>\n",
       "      <td>0</td>\n",
       "      <td>0</td>\n",
       "    </tr>\n",
       "    <tr>\n",
       "      <th>3</th>\n",
       "      <td>47</td>\n",
       "      <td>blue-collar</td>\n",
       "      <td>married</td>\n",
       "      <td>unknown</td>\n",
       "      <td>0</td>\n",
       "      <td>1506</td>\n",
       "      <td>1</td>\n",
       "      <td>0</td>\n",
       "      <td>0</td>\n",
       "      <td>5</td>\n",
       "      <td>5</td>\n",
       "      <td>92</td>\n",
       "      <td>1</td>\n",
       "      <td>-1</td>\n",
       "      <td>0</td>\n",
       "      <td>0</td>\n",
       "      <td>0</td>\n",
       "    </tr>\n",
       "    <tr>\n",
       "      <th>4</th>\n",
       "      <td>33</td>\n",
       "      <td>unknown</td>\n",
       "      <td>single</td>\n",
       "      <td>unknown</td>\n",
       "      <td>0</td>\n",
       "      <td>1</td>\n",
       "      <td>0</td>\n",
       "      <td>0</td>\n",
       "      <td>0</td>\n",
       "      <td>5</td>\n",
       "      <td>5</td>\n",
       "      <td>198</td>\n",
       "      <td>1</td>\n",
       "      <td>-1</td>\n",
       "      <td>0</td>\n",
       "      <td>0</td>\n",
       "      <td>0</td>\n",
       "    </tr>\n",
       "  </tbody>\n",
       "</table>\n",
       "</div>"
      ],
      "text/plain": [
       "   age           job  marital  education  default  balance  housing  loan  \\\n",
       "0   58    management  married   tertiary        0     2143        1     0   \n",
       "1   44    technician   single  secondary        0       29        1     0   \n",
       "2   33  entrepreneur  married  secondary        0        2        1     1   \n",
       "3   47   blue-collar  married    unknown        0     1506        1     0   \n",
       "4   33       unknown   single    unknown        0        1        0     0   \n",
       "\n",
       "   contact  day  month  duration  campaign  pdays  previous  poutcome  y  \n",
       "0        0    5      5       261         1     -1         0         0  0  \n",
       "1        0    5      5       151         1     -1         0         0  0  \n",
       "2        0    5      5        76         1     -1         0         0  0  \n",
       "3        0    5      5        92         1     -1         0         0  0  \n",
       "4        0    5      5       198         1     -1         0         0  0  "
      ]
     },
     "execution_count": 17,
     "metadata": {},
     "output_type": "execute_result"
    }
   ],
   "source": [
    "# change previous outcome poutcome to numerical.  \n",
    "df['poutcome']=df.poutcome.map(dict({'failure':-1,'unknown':0,'other':0,'success':1}))\n",
    "df.head()"
   ]
  },
  {
   "cell_type": "code",
   "execution_count": 18,
   "id": "938ea2f7",
   "metadata": {},
   "outputs": [
    {
     "data": {
      "text/html": [
       "<div>\n",
       "<style scoped>\n",
       "    .dataframe tbody tr th:only-of-type {\n",
       "        vertical-align: middle;\n",
       "    }\n",
       "\n",
       "    .dataframe tbody tr th {\n",
       "        vertical-align: top;\n",
       "    }\n",
       "\n",
       "    .dataframe thead th {\n",
       "        text-align: right;\n",
       "    }\n",
       "</style>\n",
       "<table border=\"1\" class=\"dataframe\">\n",
       "  <thead>\n",
       "    <tr style=\"text-align: right;\">\n",
       "      <th></th>\n",
       "      <th>age</th>\n",
       "      <th>job</th>\n",
       "      <th>marital</th>\n",
       "      <th>education</th>\n",
       "      <th>default</th>\n",
       "      <th>balance</th>\n",
       "      <th>housing</th>\n",
       "      <th>loan</th>\n",
       "      <th>contact</th>\n",
       "      <th>day</th>\n",
       "      <th>month</th>\n",
       "      <th>duration</th>\n",
       "      <th>campaign</th>\n",
       "      <th>pdays</th>\n",
       "      <th>previous</th>\n",
       "      <th>poutcome</th>\n",
       "      <th>y</th>\n",
       "    </tr>\n",
       "  </thead>\n",
       "  <tbody>\n",
       "    <tr>\n",
       "      <th>0</th>\n",
       "      <td>58</td>\n",
       "      <td>management</td>\n",
       "      <td>1</td>\n",
       "      <td>3</td>\n",
       "      <td>0</td>\n",
       "      <td>2143</td>\n",
       "      <td>1</td>\n",
       "      <td>0</td>\n",
       "      <td>0</td>\n",
       "      <td>5</td>\n",
       "      <td>5</td>\n",
       "      <td>261</td>\n",
       "      <td>1</td>\n",
       "      <td>-1</td>\n",
       "      <td>0</td>\n",
       "      <td>0</td>\n",
       "      <td>0</td>\n",
       "    </tr>\n",
       "    <tr>\n",
       "      <th>1</th>\n",
       "      <td>44</td>\n",
       "      <td>technician</td>\n",
       "      <td>0</td>\n",
       "      <td>2</td>\n",
       "      <td>0</td>\n",
       "      <td>29</td>\n",
       "      <td>1</td>\n",
       "      <td>0</td>\n",
       "      <td>0</td>\n",
       "      <td>5</td>\n",
       "      <td>5</td>\n",
       "      <td>151</td>\n",
       "      <td>1</td>\n",
       "      <td>-1</td>\n",
       "      <td>0</td>\n",
       "      <td>0</td>\n",
       "      <td>0</td>\n",
       "    </tr>\n",
       "    <tr>\n",
       "      <th>2</th>\n",
       "      <td>33</td>\n",
       "      <td>entrepreneur</td>\n",
       "      <td>1</td>\n",
       "      <td>2</td>\n",
       "      <td>0</td>\n",
       "      <td>2</td>\n",
       "      <td>1</td>\n",
       "      <td>1</td>\n",
       "      <td>0</td>\n",
       "      <td>5</td>\n",
       "      <td>5</td>\n",
       "      <td>76</td>\n",
       "      <td>1</td>\n",
       "      <td>-1</td>\n",
       "      <td>0</td>\n",
       "      <td>0</td>\n",
       "      <td>0</td>\n",
       "    </tr>\n",
       "    <tr>\n",
       "      <th>3</th>\n",
       "      <td>47</td>\n",
       "      <td>blue-collar</td>\n",
       "      <td>1</td>\n",
       "      <td>0</td>\n",
       "      <td>0</td>\n",
       "      <td>1506</td>\n",
       "      <td>1</td>\n",
       "      <td>0</td>\n",
       "      <td>0</td>\n",
       "      <td>5</td>\n",
       "      <td>5</td>\n",
       "      <td>92</td>\n",
       "      <td>1</td>\n",
       "      <td>-1</td>\n",
       "      <td>0</td>\n",
       "      <td>0</td>\n",
       "      <td>0</td>\n",
       "    </tr>\n",
       "    <tr>\n",
       "      <th>4</th>\n",
       "      <td>33</td>\n",
       "      <td>unknown</td>\n",
       "      <td>0</td>\n",
       "      <td>0</td>\n",
       "      <td>0</td>\n",
       "      <td>1</td>\n",
       "      <td>0</td>\n",
       "      <td>0</td>\n",
       "      <td>0</td>\n",
       "      <td>5</td>\n",
       "      <td>5</td>\n",
       "      <td>198</td>\n",
       "      <td>1</td>\n",
       "      <td>-1</td>\n",
       "      <td>0</td>\n",
       "      <td>0</td>\n",
       "      <td>0</td>\n",
       "    </tr>\n",
       "  </tbody>\n",
       "</table>\n",
       "</div>"
      ],
      "text/plain": [
       "   age           job  marital  education  default  balance  housing  loan  \\\n",
       "0   58    management        1          3        0     2143        1     0   \n",
       "1   44    technician        0          2        0       29        1     0   \n",
       "2   33  entrepreneur        1          2        0        2        1     1   \n",
       "3   47   blue-collar        1          0        0     1506        1     0   \n",
       "4   33       unknown        0          0        0        1        0     0   \n",
       "\n",
       "   contact  day  month  duration  campaign  pdays  previous  poutcome  y  \n",
       "0        0    5      5       261         1     -1         0         0  0  \n",
       "1        0    5      5       151         1     -1         0         0  0  \n",
       "2        0    5      5        76         1     -1         0         0  0  \n",
       "3        0    5      5        92         1     -1         0         0  0  \n",
       "4        0    5      5       198         1     -1         0         0  0  "
      ]
     },
     "execution_count": 18,
     "metadata": {},
     "output_type": "execute_result"
    }
   ],
   "source": [
    "# Change education and marital to numerical object types\n",
    "df['education']=df.education.map(dict({'unknown':0,'primary':1,'secondary':2,'tertiary':3}))\n",
    "df['marital']=df.marital.map(dict({'single':0,'married':1,'divorced':-1}))\n",
    "df.head()"
   ]
  },
  {
   "cell_type": "code",
   "execution_count": 19,
   "id": "036f9111",
   "metadata": {},
   "outputs": [],
   "source": [
    "# Build training and test datasets for modeling.  Drop job bc it is categorical.  Will use groups later to look at jobs\n",
    "X=df.drop(['y','job'],axis=1)\n",
    "y=df['y']\n",
    "X_train, X_test, y_train, y_test = train_test_split(X, y, test_size=0.33, random_state=42)"
   ]
  },
  {
   "cell_type": "code",
   "execution_count": 20,
   "id": "29826861",
   "metadata": {},
   "outputs": [
    {
     "data": {
      "text/plain": [
       "0    39922\n",
       "1     5289\n",
       "Name: y, dtype: int64"
      ]
     },
     "execution_count": 20,
     "metadata": {},
     "output_type": "execute_result"
    }
   ],
   "source": [
    "# fairly imbalanced dataset at 89% 'no'.  Models need to be in the mid 90's to be valid.\n",
    "y.value_counts()"
   ]
  },
  {
   "cell_type": "code",
   "execution_count": 21,
   "id": "dc8a8e72",
   "metadata": {},
   "outputs": [
    {
     "name": "stderr",
     "output_type": "stream",
     "text": [
      "/Users/joshuagreenberg/opt/anaconda3/lib/python3.9/site-packages/sklearn/neighbors/_classification.py:228: FutureWarning: Unlike other reduction functions (e.g. `skew`, `kurtosis`), the default behavior of `mode` typically preserves the axis it acts along. In SciPy 1.11.0, this behavior will change: the default value of `keepdims` will become False, the `axis` over which the statistic is taken will be eliminated, and the value None will no longer be accepted. Set `keepdims` to True or False to avoid this warning.\n",
      "  mode, _ = stats.mode(_y[neigh_ind, k], axis=1)\n"
     ]
    }
   ],
   "source": [
    "# GridSearch optimized for recall determined optimal n_neighbors to be 5.  See code in Appendix for more detail.\n",
    "# Note that Gridsearches take a long time to run.  Uncomment them if you want to run them yourself.\n",
    "#%%time\n",
    "pipe_knn=Pipeline([('scale',StandardScaler()),('knn',KNeighborsClassifier(n_neighbors=5))])\n",
    "pipe_knn.fit(X_train,y_train)\n",
    "preds_knn=pipe_knn.predict(X_test)"
   ]
  },
  {
   "cell_type": "code",
   "execution_count": 22,
   "id": "8db27aa4",
   "metadata": {},
   "outputs": [
    {
     "name": "stdout",
     "output_type": "stream",
     "text": [
      "CPU times: user 246 ms, sys: 10.7 ms, total: 256 ms\n",
      "Wall time: 51.8 ms\n"
     ]
    }
   ],
   "source": [
    "%%time\n",
    "pipe_lr=Pipeline([('scale',StandardScaler()),('lr',LogisticRegression())])\n",
    "pipe_lr.fit(X_train,y_train)\n",
    "preds_lr=pipe_lr.predict(X_test)"
   ]
  },
  {
   "cell_type": "code",
   "execution_count": 23,
   "id": "62f8c048",
   "metadata": {},
   "outputs": [
    {
     "name": "stdout",
     "output_type": "stream",
     "text": [
      "CPU times: user 165 ms, sys: 4.25 ms, total: 169 ms\n",
      "Wall time: 174 ms\n"
     ]
    }
   ],
   "source": [
    "%%time\n",
    "pipe_dt=Pipeline([('scale',StandardScaler()),('dt',DecisionTreeClassifier())])\n",
    "pipe_dt.fit(X_train,y_train)\n",
    "preds_dt=pipe_dt.predict(X_test)"
   ]
  },
  {
   "cell_type": "code",
   "execution_count": 24,
   "id": "f55a8d36",
   "metadata": {},
   "outputs": [
    {
     "name": "stdout",
     "output_type": "stream",
     "text": [
      "CPU times: user 23.4 s, sys: 161 ms, total: 23.6 s\n",
      "Wall time: 23.6 s\n"
     ]
    }
   ],
   "source": [
    "%%time\n",
    "pipe_svc=Pipeline([('scale',StandardScaler()),('svc',SVC(C=5))])\n",
    "pipe_svc.fit(X_train,y_train)\n",
    "preds_svc=pipe_svc.predict(X_test)"
   ]
  },
  {
   "cell_type": "code",
   "execution_count": 238,
   "id": "beb3f062",
   "metadata": {},
   "outputs": [
    {
     "data": {
      "text/html": [
       "<div>\n",
       "<style scoped>\n",
       "    .dataframe tbody tr th:only-of-type {\n",
       "        vertical-align: middle;\n",
       "    }\n",
       "\n",
       "    .dataframe tbody tr th {\n",
       "        vertical-align: top;\n",
       "    }\n",
       "\n",
       "    .dataframe thead th {\n",
       "        text-align: right;\n",
       "    }\n",
       "</style>\n",
       "<table border=\"1\" class=\"dataframe\">\n",
       "  <thead>\n",
       "    <tr style=\"text-align: right;\">\n",
       "      <th></th>\n",
       "      <th>Model</th>\n",
       "      <th>Recall_Score_%</th>\n",
       "    </tr>\n",
       "  </thead>\n",
       "  <tbody>\n",
       "    <tr>\n",
       "      <th>0</th>\n",
       "      <td>SVC</td>\n",
       "      <td>63</td>\n",
       "    </tr>\n",
       "    <tr>\n",
       "      <th>1</th>\n",
       "      <td>Logistic_Regression</td>\n",
       "      <td>62</td>\n",
       "    </tr>\n",
       "    <tr>\n",
       "      <th>2</th>\n",
       "      <td>K_Nearest_Neighbor</td>\n",
       "      <td>58</td>\n",
       "    </tr>\n",
       "    <tr>\n",
       "      <th>3</th>\n",
       "      <td>Decision_Tree</td>\n",
       "      <td>46</td>\n",
       "    </tr>\n",
       "  </tbody>\n",
       "</table>\n",
       "</div>"
      ],
      "text/plain": [
       "                 Model  Recall_Score_%\n",
       "0                  SVC              63\n",
       "1  Logistic_Regression              62\n",
       "2   K_Nearest_Neighbor              58\n",
       "3        Decision_Tree              46"
      ]
     },
     "execution_count": 238,
     "metadata": {},
     "output_type": "execute_result"
    }
   ],
   "source": [
    "df_recall=pd.DataFrame(columns=('Model','Recall_Score_%'))\n",
    "df_recall.loc[len(df_recall)]=('SVC',int(100*recall_score(preds_svc, y_test)))\n",
    "df_recall.loc[len(df_recall)]=('Logistic_Regression',int(100*recall_score(preds_lr, y_test)))\n",
    "df_recall.loc[len(df_recall)]=('K_Nearest_Neighbor',int(100*recall_score(preds_knn, y_test)))\n",
    "df_recall.loc[len(df_recall)]=('Decision_Tree',int(100*recall_score(preds_dt, y_test)))\n",
    "\n",
    "\n",
    "\n",
    "df_recall.head()"
   ]
  },
  {
   "cell_type": "code",
   "execution_count": 26,
   "id": "f0b3ea40",
   "metadata": {},
   "outputs": [
    {
     "data": {
      "text/plain": [
       "<sklearn.metrics._plot.confusion_matrix.ConfusionMatrixDisplay at 0x7fac12cc46d0>"
      ]
     },
     "execution_count": 26,
     "metadata": {},
     "output_type": "execute_result"
    },
    {
     "data": {
      "image/png": "[encoded data removed]",
      "text/plain": [
       "<Figure size 640x480 with 2 Axes>"
      ]
     },
     "metadata": {},
     "output_type": "display_data"
    }
   ],
   "source": [
    "cm_knn=confusion_matrix(y_test,preds_knn)\n",
    "disp = ConfusionMatrixDisplay(confusion_matrix=cm_knn)\n",
    "disp.plot()"
   ]
  },
  {
   "cell_type": "code",
   "execution_count": 27,
   "id": "2c670dcc",
   "metadata": {},
   "outputs": [
    {
     "data": {
      "text/plain": [
       "<sklearn.metrics._plot.confusion_matrix.ConfusionMatrixDisplay at 0x7fac1246ef70>"
      ]
     },
     "execution_count": 27,
     "metadata": {},
     "output_type": "execute_result"
    },
    {
     "data": {
      "image/png": "[encoded data removed]",
      "text/plain": [
       "<Figure size 640x480 with 2 Axes>"
      ]
     },
     "metadata": {},
     "output_type": "display_data"
    }
   ],
   "source": [
    "cm_lr=confusion_matrix(y_test,preds_lr)\n",
    "disp = ConfusionMatrixDisplay(confusion_matrix=cm_lr)\n",
    "disp.plot()"
   ]
  },
  {
   "cell_type": "code",
   "execution_count": 28,
   "id": "3cad93f7",
   "metadata": {},
   "outputs": [
    {
     "data": {
      "text/plain": [
       "<sklearn.metrics._plot.confusion_matrix.ConfusionMatrixDisplay at 0x7fac12cc4760>"
      ]
     },
     "execution_count": 28,
     "metadata": {},
     "output_type": "execute_result"
    },
    {
     "data": {
      "image/png": "[encoded data removed]",
      "text/plain": [
       "<Figure size 640x480 with 2 Axes>"
      ]
     },
     "metadata": {},
     "output_type": "display_data"
    }
   ],
   "source": [
    "cm_dt=confusion_matrix(y_test,preds_dt)\n",
    "disp = ConfusionMatrixDisplay(confusion_matrix=cm_dt)\n",
    "disp.plot()"
   ]
  },
  {
   "cell_type": "code",
   "execution_count": 29,
   "id": "0f8dde59",
   "metadata": {},
   "outputs": [
    {
     "data": {
      "text/plain": [
       "<sklearn.metrics._plot.confusion_matrix.ConfusionMatrixDisplay at 0x7fac02b682b0>"
      ]
     },
     "execution_count": 29,
     "metadata": {},
     "output_type": "execute_result"
    },
    {
     "data": {
      "image/png": "[encoded data removed]",
      "text/plain": [
       "<Figure size 640x480 with 2 Axes>"
      ]
     },
     "metadata": {},
     "output_type": "display_data"
    }
   ],
   "source": [
    "cm_svc=confusion_matrix(y_test,preds_svc)\n",
    "disp = ConfusionMatrixDisplay(confusion_matrix=cm_svc)\n",
    "disp.plot()"
   ]
  },
  {
   "cell_type": "code",
   "execution_count": 30,
   "id": "d5b5db44",
   "metadata": {},
   "outputs": [
    {
     "name": "stdout",
     "output_type": "stream",
     "text": [
      "CPU times: user 15.9 s, sys: 122 ms, total: 16 s\n",
      "Wall time: 16 s\n"
     ]
    },
    {
     "data": {
      "text/plain": [
       "<sklearn.metrics._plot.confusion_matrix.ConfusionMatrixDisplay at 0x7fac029049d0>"
      ]
     },
     "execution_count": 30,
     "metadata": {},
     "output_type": "execute_result"
    },
    {
     "data": {
      "image/png": "[encoded data removed]",
      "text/plain": [
       "<Figure size 640x480 with 2 Axes>"
      ]
     },
     "metadata": {},
     "output_type": "display_data"
    }
   ],
   "source": [
    "%%time\n",
    "pipe_svc_lr=Pipeline([('scale',StandardScaler()),('svc_lr',SVC(kernel='linear'))])\n",
    "pipe_svc_lr.fit(X_train,y_train)\n",
    "preds_svc_lr=pipe_svc_lr.predict(X_test)\n",
    "cm_svc_lr=confusion_matrix(y_test,preds_svc_lr)\n",
    "disp = ConfusionMatrixDisplay(confusion_matrix=cm_svc_lr)\n",
    "disp.plot()"
   ]
  },
  {
   "cell_type": "code",
   "execution_count": 31,
   "id": "7bf6269b",
   "metadata": {},
   "outputs": [
    {
     "name": "stdout",
     "output_type": "stream",
     "text": [
      "CPU times: user 15.5 s, sys: 115 ms, total: 15.6 s\n",
      "Wall time: 15.6 s\n"
     ]
    },
    {
     "data": {
      "text/plain": [
       "<sklearn.metrics._plot.confusion_matrix.ConfusionMatrixDisplay at 0x7fac02b5a610>"
      ]
     },
     "execution_count": 31,
     "metadata": {},
     "output_type": "execute_result"
    },
    {
     "data": {
      "image/png": "[encoded data removed]",
      "text/plain": [
       "<Figure size 640x480 with 2 Axes>"
      ]
     },
     "metadata": {},
     "output_type": "display_data"
    }
   ],
   "source": [
    "%%time\n",
    "pipe_svc_poly=Pipeline([('scale',StandardScaler()),('svc_poly',SVC(kernel='poly'))])\n",
    "pipe_svc_poly.fit(X_train,y_train)\n",
    "preds_svc_poly=pipe_svc_poly.predict(X_test)\n",
    "cm_svc_poly=confusion_matrix(y_test,preds_svc_poly)\n",
    "disp = ConfusionMatrixDisplay(confusion_matrix=cm_svc_poly)\n",
    "disp.plot()"
   ]
  },
  {
   "cell_type": "code",
   "execution_count": 33,
   "id": "b39eedc1",
   "metadata": {},
   "outputs": [
    {
     "name": "stdout",
     "output_type": "stream",
     "text": [
      "uniform \n",
      "\n",
      "[[ 0.03314937 -0.11904886  0.1313086  -0.03267785  0.05527678 -0.45794359\n",
      "  -0.23638935  0.60755117 -0.03289361 -0.02878567  1.03785855 -0.42882605\n",
      "   0.34481068  0.13331141  0.46417372]] \n",
      "\n",
      "[0.10182822 0.02358657 0.02349594 0.00180442 0.12778311 0.01438941\n",
      " 0.00657587 0.01644129 0.09828573 0.08052357 0.29847543 0.03478749\n",
      " 0.05825006 0.01767445 0.09609845] \n",
      "\n",
      "[[ 0.02450881 -0.02555969  0.03560647 -0.00820317  0.01139151 -0.12022538\n",
      "  -0.06738356  0.13883501 -0.0038281   0.0045625   0.32979599 -0.10245188\n",
      "   0.13611609  0.03311548  0.23394571]] \n",
      "\n"
     ]
    }
   ],
   "source": [
    "print(pipe_knn.named_steps.knn.weights,'\\n')  # KNN does not have a numerical method for feature importance\n",
    "print(pipe_lr.named_steps.lr.coef_,'\\n')\n",
    "print(pipe_dt.named_steps.dt.feature_importances_,'\\n')\n",
    "print(pipe_svc_lr.named_steps.svc_lr.coef_,'\\n')"
   ]
  },
  {
   "cell_type": "code",
   "execution_count": 35,
   "id": "57c7a4eb",
   "metadata": {},
   "outputs": [
    {
     "data": {
      "image/png": "[encoded data removed]",
      "text/plain": [
       "<Figure size 640x480 with 1 Axes>"
      ]
     },
     "metadata": {},
     "output_type": "display_data"
    }
   ],
   "source": [
    "#print(pipe_lr.named_steps.scale.get_feature_names_out())\n",
    "df_lr_features=pd.DataFrame(pipe_lr.named_steps.lr.coef_,columns=pipe_lr.named_steps.scale.get_feature_names_out())\n",
    "df_lr_features=df_lr_features.sort_values(by=0, ascending=True, axis=1)\n",
    "df_lr_features.head()\n",
    "sns.barplot(data=df_lr_features).set(title='Logistic Regression Feature Importance')\n",
    "plt.xticks(rotation=90);"
   ]
  },
  {
   "cell_type": "code",
   "execution_count": 36,
   "id": "ef3c3caf",
   "metadata": {},
   "outputs": [
    {
     "data": {
      "image/png": "[encoded data removed]",
      "text/plain": [
       "<Figure size 640x480 with 1 Axes>"
      ]
     },
     "metadata": {},
     "output_type": "display_data"
    }
   ],
   "source": [
    "#print(pipe_lr.named_steps.scale.get_feature_names_out())\n",
    "df_svc_features=pd.DataFrame(pipe_svc_lr.named_steps.svc_lr.coef_,columns=pipe_svc_lr.named_steps.scale.get_feature_names_out())\n",
    "df_svc_features=df_svc_features.sort_values(by=0, ascending=True, axis=1)\n",
    "df_svc_features.head()\n",
    "sns.barplot(data=df_svc_features).set(title='SVC Feature Importance')\n",
    "plt.xticks(rotation=90);"
   ]
  },
  {
   "cell_type": "code",
   "execution_count": 37,
   "id": "fdb86310",
   "metadata": {},
   "outputs": [
    {
     "data": {
      "image/png": "[encoded data removed]",
      "text/plain": [
       "<Figure size 640x480 with 1 Axes>"
      ]
     },
     "metadata": {},
     "output_type": "display_data"
    }
   ],
   "source": [
    "df_dt_features=pd.DataFrame(columns=pipe_dt.named_steps.scale.get_feature_names_out())\n",
    "df_dt_features.loc[len(df_dt_features)] = pipe_dt.named_steps.dt.feature_importances_\n",
    "df_dt_features=df_dt_features.sort_values(by=0, ascending=True, axis=1)\n",
    "df_dt_features.head()\n",
    "sns.barplot(data=df_dt_features).set(title='Decision Tree Feature Importance')\n",
    "plt.xticks(rotation=90);"
   ]
  },
  {
   "cell_type": "code",
   "execution_count": 225,
   "id": "7942ea7d",
   "metadata": {},
   "outputs": [
    {
     "data": {
      "image/png": "[encoded data removed]",
      "text/plain": [
       "<Figure size 1600x1400 with 3 Axes>"
      ]
     },
     "metadata": {},
     "output_type": "display_data"
    }
   ],
   "source": [
    "# combine all feature plots\n",
    "fig, axs = plt.subplots(figsize=(16, 14),nrows=3)\n",
    "sns.barplot(data=df_dt_features,ax=axs[0])\n",
    "sns.barplot(data=df_svc_features,ax=axs[1]).set(title='SVC')\n",
    "sns.barplot(data=df_lr_features,ax=axs[2]).set(title='Logistic Regression')\n",
    "axs[0].set(title='Decision Tree')\n",
    "plt.suptitle(\"Relative Feature Importance by Model\",fontweight='bold')\n",
    "plt.subplots_adjust(left=0.1,\n",
    "                    bottom=0.1,\n",
    "                    right=0.9,\n",
    "                    top=0.9,\n",
    "                    wspace=0.5,\n",
    "                    hspace=0.5)\n",
    "\n",
    "plt.savefig('/var/local/data/bank_loan_predictor/images/Relative_Feature_Importance.png')\n",
    "plt.show();\n",
    "#plt.tight_layout(pad=5.0)\n",
    "#plt.xticks(rotation=90);"
   ]
  },
  {
   "cell_type": "code",
   "execution_count": 86,
   "id": "18e2f6bf",
   "metadata": {},
   "outputs": [
    {
     "data": {
      "text/html": [
       "<div>\n",
       "<style scoped>\n",
       "    .dataframe tbody tr th:only-of-type {\n",
       "        vertical-align: middle;\n",
       "    }\n",
       "\n",
       "    .dataframe tbody tr th {\n",
       "        vertical-align: top;\n",
       "    }\n",
       "\n",
       "    .dataframe thead th {\n",
       "        text-align: right;\n",
       "    }\n",
       "</style>\n",
       "<table border=\"1\" class=\"dataframe\">\n",
       "  <thead>\n",
       "    <tr style=\"text-align: right;\">\n",
       "      <th></th>\n",
       "      <th>age</th>\n",
       "      <th>job</th>\n",
       "      <th>marital</th>\n",
       "      <th>education</th>\n",
       "      <th>default</th>\n",
       "      <th>balance</th>\n",
       "      <th>housing</th>\n",
       "      <th>loan</th>\n",
       "      <th>contact</th>\n",
       "      <th>day</th>\n",
       "      <th>month</th>\n",
       "      <th>duration</th>\n",
       "      <th>campaign</th>\n",
       "      <th>pdays</th>\n",
       "      <th>previous</th>\n",
       "      <th>poutcome</th>\n",
       "      <th>y</th>\n",
       "    </tr>\n",
       "  </thead>\n",
       "  <tbody>\n",
       "    <tr>\n",
       "      <th>0</th>\n",
       "      <td>58</td>\n",
       "      <td>management</td>\n",
       "      <td>1</td>\n",
       "      <td>3</td>\n",
       "      <td>0</td>\n",
       "      <td>2143</td>\n",
       "      <td>1</td>\n",
       "      <td>0</td>\n",
       "      <td>0</td>\n",
       "      <td>5</td>\n",
       "      <td>5</td>\n",
       "      <td>261</td>\n",
       "      <td>1</td>\n",
       "      <td>-1</td>\n",
       "      <td>0</td>\n",
       "      <td>0</td>\n",
       "      <td>0</td>\n",
       "    </tr>\n",
       "    <tr>\n",
       "      <th>1</th>\n",
       "      <td>44</td>\n",
       "      <td>technician</td>\n",
       "      <td>0</td>\n",
       "      <td>2</td>\n",
       "      <td>0</td>\n",
       "      <td>29</td>\n",
       "      <td>1</td>\n",
       "      <td>0</td>\n",
       "      <td>0</td>\n",
       "      <td>5</td>\n",
       "      <td>5</td>\n",
       "      <td>151</td>\n",
       "      <td>1</td>\n",
       "      <td>-1</td>\n",
       "      <td>0</td>\n",
       "      <td>0</td>\n",
       "      <td>0</td>\n",
       "    </tr>\n",
       "    <tr>\n",
       "      <th>2</th>\n",
       "      <td>33</td>\n",
       "      <td>entrepreneur</td>\n",
       "      <td>1</td>\n",
       "      <td>2</td>\n",
       "      <td>0</td>\n",
       "      <td>2</td>\n",
       "      <td>1</td>\n",
       "      <td>1</td>\n",
       "      <td>0</td>\n",
       "      <td>5</td>\n",
       "      <td>5</td>\n",
       "      <td>76</td>\n",
       "      <td>1</td>\n",
       "      <td>-1</td>\n",
       "      <td>0</td>\n",
       "      <td>0</td>\n",
       "      <td>0</td>\n",
       "    </tr>\n",
       "    <tr>\n",
       "      <th>3</th>\n",
       "      <td>47</td>\n",
       "      <td>blue-collar</td>\n",
       "      <td>1</td>\n",
       "      <td>0</td>\n",
       "      <td>0</td>\n",
       "      <td>1506</td>\n",
       "      <td>1</td>\n",
       "      <td>0</td>\n",
       "      <td>0</td>\n",
       "      <td>5</td>\n",
       "      <td>5</td>\n",
       "      <td>92</td>\n",
       "      <td>1</td>\n",
       "      <td>-1</td>\n",
       "      <td>0</td>\n",
       "      <td>0</td>\n",
       "      <td>0</td>\n",
       "    </tr>\n",
       "    <tr>\n",
       "      <th>4</th>\n",
       "      <td>33</td>\n",
       "      <td>unknown</td>\n",
       "      <td>0</td>\n",
       "      <td>0</td>\n",
       "      <td>0</td>\n",
       "      <td>1</td>\n",
       "      <td>0</td>\n",
       "      <td>0</td>\n",
       "      <td>0</td>\n",
       "      <td>5</td>\n",
       "      <td>5</td>\n",
       "      <td>198</td>\n",
       "      <td>1</td>\n",
       "      <td>-1</td>\n",
       "      <td>0</td>\n",
       "      <td>0</td>\n",
       "      <td>0</td>\n",
       "    </tr>\n",
       "  </tbody>\n",
       "</table>\n",
       "</div>"
      ],
      "text/plain": [
       "   age           job  marital  education  default  balance  housing  loan  \\\n",
       "0   58    management        1          3        0     2143        1     0   \n",
       "1   44    technician        0          2        0       29        1     0   \n",
       "2   33  entrepreneur        1          2        0        2        1     1   \n",
       "3   47   blue-collar        1          0        0     1506        1     0   \n",
       "4   33       unknown        0          0        0        1        0     0   \n",
       "\n",
       "   contact  day  month  duration  campaign  pdays  previous  poutcome  y  \n",
       "0        0    5      5       261         1     -1         0         0  0  \n",
       "1        0    5      5       151         1     -1         0         0  0  \n",
       "2        0    5      5        76         1     -1         0         0  0  \n",
       "3        0    5      5        92         1     -1         0         0  0  \n",
       "4        0    5      5       198         1     -1         0         0  0  "
      ]
     },
     "execution_count": 86,
     "metadata": {},
     "output_type": "execute_result"
    }
   ],
   "source": [
    "df.head()"
   ]
  },
  {
   "cell_type": "code",
   "execution_count": 161,
   "id": "fa0906c7",
   "metadata": {},
   "outputs": [
    {
     "name": "stdout",
     "output_type": "stream",
     "text": [
      "marital\n",
      "-1    0.119455\n",
      " 0    0.149492\n",
      " 1    0.101235\n",
      "Name: y, dtype: float64\n",
      "poutcome\n",
      "-1    0.126097\n",
      " 0    0.095183\n",
      " 1    0.647253\n",
      "Name: y, dtype: float64\n",
      "education\n",
      "0    0.135703\n",
      "1    0.086265\n",
      "2    0.105594\n",
      "3    0.150064\n",
      "Name: y, dtype: float64\n",
      "housing\n",
      "0    0.167024\n",
      "1    0.077000\n",
      "Name: y, dtype: float64\n",
      "contact\n",
      "0    0.040707\n",
      "1    0.147836\n",
      "Name: y, dtype: float64\n",
      "poutcome\n",
      "-1    0.126097\n",
      " 0    0.095183\n",
      " 1    0.647253\n",
      "Name: y, dtype: float64\n"
     ]
    }
   ],
   "source": [
    "#Explore Conversion rates by binary variables\n",
    "# Because they are binary, mean represents their relative conversion rates\n",
    "# Note that previous outcome is the strongest indicator at 64.7%\n",
    "\n",
    "print(df.groupby(['marital'])['y'].mean())\n",
    "print(df.groupby(['poutcome'])['y'].mean())\n",
    "print(df.groupby(['education'])['y'].mean())\n",
    "print(df.groupby(['housing'])['y'].mean())\n",
    "print(df.groupby(['contact'])['y'].mean())\n",
    "print(df.groupby(['poutcome'])['y'].mean())\n"
   ]
  },
  {
   "cell_type": "code",
   "execution_count": 122,
   "id": "fdbe7c8d",
   "metadata": {},
   "outputs": [
    {
     "name": "stdout",
     "output_type": "stream",
     "text": [
      "y\n",
      "0    40.838986\n",
      "1    41.670070\n",
      "Name: age, dtype: float64\n",
      "y\n",
      "0    1303.714969\n",
      "1    1804.267915\n",
      "Name: balance, dtype: float64\n",
      "y\n",
      "0    221.182806\n",
      "1    537.294574\n",
      "Name: duration, dtype: float64\n",
      "258.1630797814691\n"
     ]
    }
   ],
   "source": [
    "# Find split for each continous feature, plan to use the midpoint between two numbers to optimize results\n",
    "# will use > 40 for age\n",
    "# will use 1300 for balance\n",
    "# will use 220 for duration\n",
    "print(df.groupby(['y'])['age'].mean())\n",
    "print(df.groupby(['y'])['balance'].mean())\n",
    "print(df.groupby(['y'])['duration'].mean())\n",
    "print(df['duration'].mean())"
   ]
  },
  {
   "cell_type": "code",
   "execution_count": 152,
   "id": "2886c1c0",
   "metadata": {},
   "outputs": [
    {
     "data": {
      "text/html": [
       "<div>\n",
       "<style scoped>\n",
       "    .dataframe tbody tr th:only-of-type {\n",
       "        vertical-align: middle;\n",
       "    }\n",
       "\n",
       "    .dataframe tbody tr th {\n",
       "        vertical-align: top;\n",
       "    }\n",
       "\n",
       "    .dataframe thead th {\n",
       "        text-align: right;\n",
       "    }\n",
       "</style>\n",
       "<table border=\"1\" class=\"dataframe\">\n",
       "  <thead>\n",
       "    <tr style=\"text-align: right;\">\n",
       "      <th></th>\n",
       "      <th>index</th>\n",
       "      <th>Job</th>\n",
       "      <th>Conversion_%</th>\n",
       "    </tr>\n",
       "  </thead>\n",
       "  <tbody>\n",
       "    <tr>\n",
       "      <th>1</th>\n",
       "      <td>1</td>\n",
       "      <td>blue-collar</td>\n",
       "      <td>7.3</td>\n",
       "    </tr>\n",
       "    <tr>\n",
       "      <th>2</th>\n",
       "      <td>2</td>\n",
       "      <td>entrepreneur</td>\n",
       "      <td>8.3</td>\n",
       "    </tr>\n",
       "    <tr>\n",
       "      <th>3</th>\n",
       "      <td>3</td>\n",
       "      <td>housemaid</td>\n",
       "      <td>8.8</td>\n",
       "    </tr>\n",
       "    <tr>\n",
       "      <th>7</th>\n",
       "      <td>7</td>\n",
       "      <td>services</td>\n",
       "      <td>8.9</td>\n",
       "    </tr>\n",
       "    <tr>\n",
       "      <th>9</th>\n",
       "      <td>9</td>\n",
       "      <td>technician</td>\n",
       "      <td>11.1</td>\n",
       "    </tr>\n",
       "  </tbody>\n",
       "</table>\n",
       "</div>"
      ],
      "text/plain": [
       "   index           Job  Conversion_%\n",
       "1      1   blue-collar           7.3\n",
       "2      2  entrepreneur           8.3\n",
       "3      3     housemaid           8.8\n",
       "7      7      services           8.9\n",
       "9      9    technician          11.1"
      ]
     },
     "execution_count": 152,
     "metadata": {},
     "output_type": "execute_result"
    }
   ],
   "source": [
    "# Build a dataframe to plot conversion rate by job\n",
    "# Note that students and retirees have the highest conversion rates\n",
    "df_jobs=pd.DataFrame(df.groupby('job')['y'].mean())\n",
    "df_jobs=df_test.reset_index()\n",
    "df_jobs['y']=round(df_jobs['y']*100,1)\n",
    "df_jobs = df_jobs.rename(columns={'y': 'Conversion_%','job':'Job'})\n",
    "df_jobs=df_jobs.sort_values(by='Conversion_%')\n",
    "df_jobs.head()\n",
    "\n"
   ]
  },
  {
   "cell_type": "code",
   "execution_count": 227,
   "id": "57ef2f7f",
   "metadata": {},
   "outputs": [
    {
     "data": {
      "image/png": "[encoded data removed]",
      "text/plain": [
       "<Figure size 640x480 with 1 Axes>"
      ]
     },
     "metadata": {},
     "output_type": "display_data"
    }
   ],
   "source": [
    "sns.barplot(data=df_jobs, x='Job',y='Conversion_%').set(title='Percent Conversion by Job')\n",
    "plt.xticks(rotation=90)\n",
    "plt.tight_layout()\n",
    "plt.savefig('/var/local/data/bank_loan_predictor/images/Conversion_By_Job.jpg')\n",
    "plt.show();"
   ]
  },
  {
   "cell_type": "code",
   "execution_count": null,
   "id": "7677ae74",
   "metadata": {},
   "outputs": [],
   "source": [
    "df_recall.loc[len(df_recall)]=('Decision_Tree','Job_Cohort',int(100*recall_score(preds_dt_cohort, y_cohort_test)))"
   ]
  },
  {
   "cell_type": "code",
   "execution_count": 156,
   "id": "99254689",
   "metadata": {},
   "outputs": [
    {
     "name": "stdout",
     "output_type": "stream",
     "text": [
      "job_cohort mean: 0.24515927545284197 /n\n",
      "original mean: 0.11698480458295547 /n\n"
     ]
    }
   ],
   "source": [
    "# Start exploring cohorts that we can assemble to provide high value targets for the sales team\n",
    "job_cohort=('retired','student')\n",
    "job_cohort_df=df.query('job.isin(@job_cohort)')\n",
    "print('job_cohort mean:',job_cohort_df['y'].mean(),'/n')\n",
    "print('original mean:',df['y'].mean(),'/n')"
   ]
  },
  {
   "cell_type": "code",
   "execution_count": 208,
   "id": "866e6748",
   "metadata": {},
   "outputs": [
    {
     "name": "stdout",
     "output_type": "stream",
     "text": [
      "po_cohort mean: 0.6472534745201853 /n\n",
      "original mean: 0.11698480458295547 /n\n"
     ]
    }
   ],
   "source": [
    "po_cohort_df=df.query('poutcome == 1 ')\n",
    "print('po_cohort mean:',po_cohort_df['y'].mean(),'/n')\n",
    "print('original mean:',df['y'].mean(),'/n')"
   ]
  },
  {
   "cell_type": "code",
   "execution_count": 209,
   "id": "ca066b1b",
   "metadata": {},
   "outputs": [
    {
     "data": {
      "text/html": [
       "<div>\n",
       "<style scoped>\n",
       "    .dataframe tbody tr th:only-of-type {\n",
       "        vertical-align: middle;\n",
       "    }\n",
       "\n",
       "    .dataframe tbody tr th {\n",
       "        vertical-align: top;\n",
       "    }\n",
       "\n",
       "    .dataframe thead th {\n",
       "        text-align: right;\n",
       "    }\n",
       "</style>\n",
       "<table border=\"1\" class=\"dataframe\">\n",
       "  <thead>\n",
       "    <tr style=\"text-align: right;\">\n",
       "      <th></th>\n",
       "      <th>Cohort</th>\n",
       "      <th>Percent_Conversion</th>\n",
       "    </tr>\n",
       "  </thead>\n",
       "  <tbody>\n",
       "    <tr>\n",
       "      <th>0</th>\n",
       "      <td>Previous Outcome Cohort</td>\n",
       "      <td>0.647253</td>\n",
       "    </tr>\n",
       "    <tr>\n",
       "      <th>1</th>\n",
       "      <td>Previous Outcome Cohort</td>\n",
       "      <td>64.700000</td>\n",
       "    </tr>\n",
       "  </tbody>\n",
       "</table>\n",
       "</div>"
      ],
      "text/plain": [
       "                    Cohort  Percent_Conversion\n",
       "0  Previous Outcome Cohort            0.647253\n",
       "1  Previous Outcome Cohort           64.700000"
      ]
     },
     "execution_count": 209,
     "metadata": {},
     "output_type": "execute_result"
    }
   ],
   "source": [
    "results_df.head()"
   ]
  },
  {
   "cell_type": "code",
   "execution_count": 197,
   "id": "267c31c1",
   "metadata": {},
   "outputs": [
    {
     "name": "stdout",
     "output_type": "stream",
     "text": [
      "duration cohort mean: 0.22932721211127507 /n\n"
     ]
    }
   ],
   "source": [
    "duration_cohort_df=df.query('duration > 220')\n",
    "print('duration cohort mean:',duration_cohort_df['y'].mean(),'/n')"
   ]
  },
  {
   "cell_type": "code",
   "execution_count": 163,
   "id": "260de0f5",
   "metadata": {},
   "outputs": [
    {
     "name": "stdout",
     "output_type": "stream",
     "text": [
      "student cohort mean: 0.2867803837953092 /n\n"
     ]
    }
   ],
   "source": [
    "student_cohort_df=df.query('job == \"student\"')\n",
    "print('student cohort mean:',student_cohort_df['y'].mean(),'/n')"
   ]
  },
  {
   "cell_type": "code",
   "execution_count": 198,
   "id": "fe65785d",
   "metadata": {},
   "outputs": [
    {
     "name": "stdout",
     "output_type": "stream",
     "text": [
      "balance cohort mean: 0.15814448171479997 /n\n"
     ]
    }
   ],
   "source": [
    "balance_cohort_df=df.query('balance > 1300')\n",
    "print('balance cohort mean:',balance_cohort_df['y'].mean(),'/n')"
   ]
  },
  {
   "cell_type": "code",
   "execution_count": 162,
   "id": "f007e525",
   "metadata": {},
   "outputs": [
    {
     "name": "stdout",
     "output_type": "stream",
     "text": [
      "housing cohort mean: 0.1670235546038544 /n\n"
     ]
    }
   ],
   "source": [
    "housing_cohort_df=df.query('housing == 0')\n",
    "print('housing cohort mean:',housing_cohort_df['y'].mean(),'/n')"
   ]
  },
  {
   "cell_type": "code",
   "execution_count": 174,
   "id": "ae1eab3c",
   "metadata": {},
   "outputs": [
    {
     "name": "stdout",
     "output_type": "stream",
     "text": [
      "contact cohort mean: 0.14783635177534094 /n\n"
     ]
    }
   ],
   "source": [
    "contact_cohort_df=df.query('contact == 1')\n",
    "print('contact cohort mean:',contact_cohort_df['y'].mean(),'/n')"
   ]
  },
  {
   "cell_type": "code",
   "execution_count": 210,
   "id": "42afbfa7",
   "metadata": {},
   "outputs": [
    {
     "name": "stdout",
     "output_type": "stream",
     "text": [
      "PO Dur Stud cohort mean: 0.8214285714285714 /n\n"
     ]
    }
   ],
   "source": [
    "po_dur_stud_cohort_df=df.query('poutcome==1 and duration > 300 and job == \"student\" ')\n",
    "\n",
    "print('PO Dur Stud cohort mean:',po_dur_stud_cohort_df['y'].mean(),'/n')"
   ]
  },
  {
   "cell_type": "code",
   "execution_count": 193,
   "id": "0b41991a",
   "metadata": {},
   "outputs": [
    {
     "name": "stdout",
     "output_type": "stream",
     "text": [
      "full cohort mean: 0.8 /n\n"
     ]
    }
   ],
   "source": [
    "new_cohort_df=df.query('poutcome==1 and duration > 221 and job == \"student\"' )\n",
    "\n",
    "print('full cohort mean:',new_cohort_df['y'].mean(),'/n')"
   ]
  },
  {
   "cell_type": "code",
   "execution_count": 173,
   "id": "bf417da5",
   "metadata": {},
   "outputs": [
    {
     "name": "stdout",
     "output_type": "stream",
     "text": [
      "balance cohort mean: 0.16319412574575493 /n\n"
     ]
    }
   ],
   "source": [
    "balance_cohort_df=df.query('balance > 1500')\n",
    "print('balance cohort mean:',balance_cohort_df['y'].mean(),'/n')"
   ]
  },
  {
   "cell_type": "code",
   "execution_count": 131,
   "id": "6870825f",
   "metadata": {},
   "outputs": [
    {
     "name": "stdout",
     "output_type": "stream",
     "text": [
      "po_dur_cohort mean: 0.7749576988155669 /n\n"
     ]
    }
   ],
   "source": [
    "po_dur_cohort_df=df.query('poutcome == 1 and duration > 300')\n",
    "print('po_dur_cohort mean:',po_dur_cohort_df['y'].mean(),'/n')\n"
   ]
  },
  {
   "cell_type": "code",
   "execution_count": 181,
   "id": "ee5203e1",
   "metadata": {},
   "outputs": [
    {
     "name": "stdout",
     "output_type": "stream",
     "text": [
      "po_dur_stud_cohort mean: 0.8238213399503722 /n\n"
     ]
    }
   ],
   "source": [
    "po_dur_cohort_df=df.query('poutcome == 1 and duration > 300 and job == \"student\"')\n",
    "print('po_dur_cohort mean:',po_dur_cohort_df['y'].mean(),'/n')"
   ]
  },
  {
   "cell_type": "code",
   "execution_count": 221,
   "id": "2568ec1a",
   "metadata": {},
   "outputs": [
    {
     "data": {
      "text/html": [
       "<div>\n",
       "<style scoped>\n",
       "    .dataframe tbody tr th:only-of-type {\n",
       "        vertical-align: middle;\n",
       "    }\n",
       "\n",
       "    .dataframe tbody tr th {\n",
       "        vertical-align: top;\n",
       "    }\n",
       "\n",
       "    .dataframe thead th {\n",
       "        text-align: right;\n",
       "    }\n",
       "</style>\n",
       "<table border=\"1\" class=\"dataframe\">\n",
       "  <thead>\n",
       "    <tr style=\"text-align: right;\">\n",
       "      <th></th>\n",
       "      <th>Cohort</th>\n",
       "      <th>Percent_Conversion</th>\n",
       "    </tr>\n",
       "  </thead>\n",
       "  <tbody>\n",
       "    <tr>\n",
       "      <th>3</th>\n",
       "      <td>Large Balance Cohort</td>\n",
       "      <td>15.8</td>\n",
       "    </tr>\n",
       "    <tr>\n",
       "      <th>4</th>\n",
       "      <td>Housing Cohort</td>\n",
       "      <td>16.7</td>\n",
       "    </tr>\n",
       "    <tr>\n",
       "      <th>1</th>\n",
       "      <td>Long Duration Cohort</td>\n",
       "      <td>22.9</td>\n",
       "    </tr>\n",
       "    <tr>\n",
       "      <th>2</th>\n",
       "      <td>Student Cohort</td>\n",
       "      <td>28.7</td>\n",
       "    </tr>\n",
       "    <tr>\n",
       "      <th>0</th>\n",
       "      <td>Repeat Customer Cohort</td>\n",
       "      <td>64.7</td>\n",
       "    </tr>\n",
       "    <tr>\n",
       "      <th>5</th>\n",
       "      <td>Top 3 Blended Cohort</td>\n",
       "      <td>82.1</td>\n",
       "    </tr>\n",
       "  </tbody>\n",
       "</table>\n",
       "</div>"
      ],
      "text/plain": [
       "                   Cohort  Percent_Conversion\n",
       "3    Large Balance Cohort                15.8\n",
       "4          Housing Cohort                16.7\n",
       "1    Long Duration Cohort                22.9\n",
       "2          Student Cohort                28.7\n",
       "0  Repeat Customer Cohort                64.7\n",
       "5    Top 3 Blended Cohort                82.1"
      ]
     },
     "execution_count": 221,
     "metadata": {},
     "output_type": "execute_result"
    }
   ],
   "source": [
    "# Build a results dataframe to chart the cohort calculations used to support recommendations\n",
    "results_df=pd.DataFrame(columns=('Cohort','Percent_Conversion'))\n",
    "results_df.loc[len(results_df)]=('Repeat Customer Cohort',round(100*po_cohort_df['y'].mean(),1))\n",
    "results_df.loc[len(results_df)]=('Long Duration Cohort',round(100*duration_cohort_df['y'].mean(),1))\n",
    "results_df.loc[len(results_df)]=('Student Cohort',round(100*student_cohort_df['y'].mean(),1))\n",
    "results_df.loc[len(results_df)]=('Large Balance Cohort',round(100*balance_cohort_df['y'].mean(),1))\n",
    "results_df.loc[len(results_df)]=('Housing Cohort',round(100*housing_cohort_df['y'].mean(),1))\n",
    "results_df.loc[len(results_df)]=('Top 3 Blended Cohort',round(100*po_dur_stud_cohort_df['y'].mean(),1))\n",
    "results_df=results_df.sort_values(by='Percent_Conversion',ascending=True)\n",
    "results_df.head(20)"
   ]
  },
  {
   "cell_type": "code",
   "execution_count": 231,
   "id": "5dea8b94",
   "metadata": {},
   "outputs": [
    {
     "data": {
      "image/png": "[encoded data removed]",
      "text/plain": [
       "<Figure size 640x480 with 1 Axes>"
      ]
     },
     "metadata": {},
     "output_type": "display_data"
    }
   ],
   "source": [
    "sns.barplot(data=results_df, x='Cohort',y='Percent_Conversion').set(title='Percent Conversion by Cohort')\n",
    "plt.xticks(rotation=90)\n",
    "plt.tight_layout()\n",
    "plt.savefig('/var/local/data/bank_loan_predictor/images/Conversion_By_Cohort.jpg')\n",
    "plt.show();"
   ]
  },
  {
   "cell_type": "code",
   "execution_count": 230,
   "id": "8357c6df",
   "metadata": {},
   "outputs": [
    {
     "name": "stdout",
     "output_type": "stream",
     "text": [
      "poutcome, housing, duratiopn cohort mean: 0.8238213399503722 /n\n",
      "housing_dur_cohort mean: 0.3585147247119078 /n\n",
      "job_dur_cohort mean: 0.31993965990126166 /n\n",
      "job_cohort mean: 0.24515927545284197 /n\n",
      "original mean: 0.11698480458295547 /n\n"
     ]
    }
   ],
   "source": [
    "phd_cohort_df=df.query('housing == 0 and duration > 300 and poutcome == 1')\n",
    "print('poutcome, housing, duratiopn cohort mean:',phd_cohort_df['y'].mean(),'/n')\n",
    "print('housing_dur_cohort mean:',housing_dur_cohort_df['y'].mean(),'/n')\n",
    "print('job_dur_cohort mean:',job_dur_cohort_df['y'].mean(),'/n')\n",
    "print('job_cohort mean:',job_cohort_df['y'].mean(),'/n')\n",
    "print('original mean:',df['y'].mean(),'/n')"
   ]
  },
  {
   "cell_type": "code",
   "execution_count": null,
   "id": "a3acf114",
   "metadata": {},
   "outputs": [],
   "source": [
    "# Blend POutcome, Duration, Balance a"
   ]
  },
  {
   "cell_type": "code",
   "execution_count": 99,
   "id": "b2eed94e",
   "metadata": {},
   "outputs": [
    {
     "ename": "NameError",
     "evalue": "name 'df_cohort' is not defined",
     "output_type": "error",
     "traceback": [
      "\u001b[0;31m---------------------------------------------------------------------------\u001b[0m",
      "\u001b[0;31mNameError\u001b[0m                                 Traceback (most recent call last)",
      "\u001b[0;32m/var/folders/nc/d0qq985n7zv3k6s5tl41yz4c0000gn/T/ipykernel_3203/4042733061.py\u001b[0m in \u001b[0;36m<module>\u001b[0;34m\u001b[0m\n\u001b[1;32m      1\u001b[0m \u001b[0;31m# Build training and test datasets for modeling cohorts.  Drop job bc it is categorical.  Will use groups later to look at jobs\u001b[0m\u001b[0;34m\u001b[0m\u001b[0;34m\u001b[0m\u001b[0m\n\u001b[0;32m----> 2\u001b[0;31m \u001b[0mX_cohort\u001b[0m\u001b[0;34m=\u001b[0m\u001b[0mdf_cohort\u001b[0m\u001b[0;34m.\u001b[0m\u001b[0mdrop\u001b[0m\u001b[0;34m(\u001b[0m\u001b[0;34m[\u001b[0m\u001b[0;34m'y'\u001b[0m\u001b[0;34m,\u001b[0m\u001b[0;34m'job'\u001b[0m\u001b[0;34m]\u001b[0m\u001b[0;34m,\u001b[0m\u001b[0maxis\u001b[0m\u001b[0;34m=\u001b[0m\u001b[0;36m1\u001b[0m\u001b[0;34m)\u001b[0m\u001b[0;34m\u001b[0m\u001b[0;34m\u001b[0m\u001b[0m\n\u001b[0m\u001b[1;32m      3\u001b[0m \u001b[0my_cohort\u001b[0m\u001b[0;34m=\u001b[0m\u001b[0mdf_cohort\u001b[0m\u001b[0;34m[\u001b[0m\u001b[0;34m'y'\u001b[0m\u001b[0;34m]\u001b[0m\u001b[0;34m\u001b[0m\u001b[0;34m\u001b[0m\u001b[0m\n\u001b[1;32m      4\u001b[0m \u001b[0mX_cohort_train\u001b[0m\u001b[0;34m,\u001b[0m \u001b[0mX_cohort_test\u001b[0m\u001b[0;34m,\u001b[0m \u001b[0my_cohort_train\u001b[0m\u001b[0;34m,\u001b[0m \u001b[0my_cohort_test\u001b[0m \u001b[0;34m=\u001b[0m \u001b[0mtrain_test_split\u001b[0m\u001b[0;34m(\u001b[0m\u001b[0mX_cohort\u001b[0m\u001b[0;34m,\u001b[0m \u001b[0my_cohort\u001b[0m\u001b[0;34m,\u001b[0m \u001b[0mtest_size\u001b[0m\u001b[0;34m=\u001b[0m\u001b[0;36m0.33\u001b[0m\u001b[0;34m,\u001b[0m \u001b[0mrandom_state\u001b[0m\u001b[0;34m=\u001b[0m\u001b[0;36m42\u001b[0m\u001b[0;34m)\u001b[0m\u001b[0;34m\u001b[0m\u001b[0;34m\u001b[0m\u001b[0m\n",
      "\u001b[0;31mNameError\u001b[0m: name 'df_cohort' is not defined"
     ]
    }
   ],
   "source": [
    "# Build training and test datasets for modeling cohorts.  Drop job bc it is categorical.  Will use groups later to look at jobs\n",
    "X_cohort=pcd_cohort_df.drop(['y','job'],axis=1)\n",
    "y_cohort=pcd_cohort_df['y']\n",
    "X_cohort_train, X_cohort_test, y_cohort_train, y_cohort_test = train_test_split(X_cohort, y_cohort, test_size=0.33, random_state=42)"
   ]
  },
  {
   "cell_type": "code",
   "execution_count": 100,
   "id": "b7243f8d",
   "metadata": {},
   "outputs": [
    {
     "ename": "NameError",
     "evalue": "name 'X_cohort_train' is not defined",
     "output_type": "error",
     "traceback": [
      "\u001b[0;31m---------------------------------------------------------------------------\u001b[0m",
      "\u001b[0;31mNameError\u001b[0m                                 Traceback (most recent call last)",
      "\u001b[0;32m<timed exec>\u001b[0m in \u001b[0;36m<module>\u001b[0;34m\u001b[0m\n",
      "\u001b[0;31mNameError\u001b[0m: name 'X_cohort_train' is not defined"
     ]
    }
   ],
   "source": [
    "%%time\n",
    "pipe_dt_cohort=Pipeline([('scale',StandardScaler()),('dt',DecisionTreeClassifier())])\n",
    "pipe_dt_cohort.fit(X_cohort_train,y_cohort_train)\n",
    "preds_dt_cohort=pipe_dt.predict(X_cohort_test)"
   ]
  },
  {
   "cell_type": "code",
   "execution_count": 101,
   "id": "fa597f47",
   "metadata": {},
   "outputs": [
    {
     "ename": "NameError",
     "evalue": "name 'df_cohort' is not defined",
     "output_type": "error",
     "traceback": [
      "\u001b[0;31m---------------------------------------------------------------------------\u001b[0m",
      "\u001b[0;31mNameError\u001b[0m                                 Traceback (most recent call last)",
      "\u001b[0;32m/var/folders/nc/d0qq985n7zv3k6s5tl41yz4c0000gn/T/ipykernel_3203/481679861.py\u001b[0m in \u001b[0;36m<module>\u001b[0;34m\u001b[0m\n\u001b[1;32m      1\u001b[0m \u001b[0;31m# Build training and test datasets for modeling cohorts.  Drop job bc it is categorical.  Will use groups later to look at jobs\u001b[0m\u001b[0;34m\u001b[0m\u001b[0;34m\u001b[0m\u001b[0m\n\u001b[0;32m----> 2\u001b[0;31m \u001b[0mX_pcd_cohort\u001b[0m\u001b[0;34m=\u001b[0m\u001b[0mdf_cohort\u001b[0m\u001b[0;34m.\u001b[0m\u001b[0mdrop\u001b[0m\u001b[0;34m(\u001b[0m\u001b[0;34m[\u001b[0m\u001b[0;34m'y'\u001b[0m\u001b[0;34m,\u001b[0m\u001b[0;34m'job'\u001b[0m\u001b[0;34m]\u001b[0m\u001b[0;34m,\u001b[0m\u001b[0maxis\u001b[0m\u001b[0;34m=\u001b[0m\u001b[0;36m1\u001b[0m\u001b[0;34m)\u001b[0m\u001b[0;34m\u001b[0m\u001b[0;34m\u001b[0m\u001b[0m\n\u001b[0m\u001b[1;32m      3\u001b[0m \u001b[0my_pcd_cohort\u001b[0m\u001b[0;34m=\u001b[0m\u001b[0mdf_cohort\u001b[0m\u001b[0;34m[\u001b[0m\u001b[0;34m'y'\u001b[0m\u001b[0;34m]\u001b[0m\u001b[0;34m\u001b[0m\u001b[0;34m\u001b[0m\u001b[0m\n\u001b[1;32m      4\u001b[0m \u001b[0mX_pcd_cohort_train\u001b[0m\u001b[0;34m,\u001b[0m \u001b[0mX_pcd_cohort_test\u001b[0m\u001b[0;34m,\u001b[0m \u001b[0my_pcd_cohort_train\u001b[0m\u001b[0;34m,\u001b[0m \u001b[0my_pcd_cohort_test\u001b[0m \u001b[0;34m=\u001b[0m \u001b[0mtrain_test_split\u001b[0m\u001b[0;34m(\u001b[0m\u001b[0mX_pcd_cohort\u001b[0m\u001b[0;34m,\u001b[0m \u001b[0my_pcd_cohort\u001b[0m\u001b[0;34m,\u001b[0m \u001b[0mtest_size\u001b[0m\u001b[0;34m=\u001b[0m\u001b[0;36m0.33\u001b[0m\u001b[0;34m,\u001b[0m \u001b[0mrandom_state\u001b[0m\u001b[0;34m=\u001b[0m\u001b[0;36m42\u001b[0m\u001b[0;34m)\u001b[0m\u001b[0;34m\u001b[0m\u001b[0;34m\u001b[0m\u001b[0m\n",
      "\u001b[0;31mNameError\u001b[0m: name 'df_cohort' is not defined"
     ]
    }
   ],
   "source": [
    "# Build training and test datasets for modeling cohorts.  Drop job bc it is categorical.  Will use groups later to look at jobs\n",
    "X_pcd_cohort=df_cohort.drop(['y','job'],axis=1)\n",
    "y_pcd_cohort=df_cohort['y']\n",
    "X_pcd_cohort_train, X_pcd_cohort_test, y_pcd_cohort_train, y_pcd_cohort_test = train_test_split(X_pcd_cohort, y_pcd_cohort, test_size=0.33, random_state=42)"
   ]
  },
  {
   "cell_type": "code",
   "execution_count": 289,
   "id": "84e21df0",
   "metadata": {},
   "outputs": [
    {
     "name": "stdout",
     "output_type": "stream",
     "text": [
      "CPU times: user 90.5 ms, sys: 2.26 ms, total: 92.8 ms\n",
      "Wall time: 93.2 ms\n"
     ]
    }
   ],
   "source": [
    "%%time\n",
    "pipe_dt_pcd_cohort=Pipeline([('scale',StandardScaler()),('dt',DecisionTreeClassifier())])\n",
    "pipe_dt_pcd_cohort.fit(X_pcd_cohort_train,y_pcd_cohort_train)\n",
    "preds_dt_pcd_cohort=pipe_dt.predict(X_pcd_cohort_test)"
   ]
  },
  {
   "cell_type": "code",
   "execution_count": 32,
   "id": "30564511",
   "metadata": {},
   "outputs": [
    {
     "ename": "NameError",
     "evalue": "name 'preds_dt_pcd_cohort' is not defined",
     "output_type": "error",
     "traceback": [
      "\u001b[0;31m---------------------------------------------------------------------------\u001b[0m",
      "\u001b[0;31mNameError\u001b[0m                                 Traceback (most recent call last)",
      "\u001b[0;32m/var/folders/nc/d0qq985n7zv3k6s5tl41yz4c0000gn/T/ipykernel_3203/3298654039.py\u001b[0m in \u001b[0;36m<module>\u001b[0;34m\u001b[0m\n\u001b[0;32m----> 1\u001b[0;31m \u001b[0mdf_recall\u001b[0m\u001b[0;34m.\u001b[0m\u001b[0mloc\u001b[0m\u001b[0;34m[\u001b[0m\u001b[0mlen\u001b[0m\u001b[0;34m(\u001b[0m\u001b[0mdf_recall\u001b[0m\u001b[0;34m)\u001b[0m\u001b[0;34m]\u001b[0m\u001b[0;34m=\u001b[0m\u001b[0;34m(\u001b[0m\u001b[0;34m'Decision_Tree'\u001b[0m\u001b[0;34m,\u001b[0m\u001b[0;34m'Job_Duration_Previous_Outcome_Cohort'\u001b[0m\u001b[0;34m,\u001b[0m\u001b[0mint\u001b[0m\u001b[0;34m(\u001b[0m\u001b[0;36m100\u001b[0m\u001b[0;34m*\u001b[0m\u001b[0mrecall_score\u001b[0m\u001b[0;34m(\u001b[0m\u001b[0mpreds_dt_pcd_cohort\u001b[0m\u001b[0;34m,\u001b[0m \u001b[0my_pcd_cohort_test\u001b[0m\u001b[0;34m)\u001b[0m\u001b[0;34m)\u001b[0m\u001b[0;34m)\u001b[0m\u001b[0;34m\u001b[0m\u001b[0;34m\u001b[0m\u001b[0m\n\u001b[0m\u001b[1;32m      2\u001b[0m \u001b[0mdf_recall\u001b[0m\u001b[0;34m.\u001b[0m\u001b[0mhead\u001b[0m\u001b[0;34m(\u001b[0m\u001b[0;34m)\u001b[0m\u001b[0;34m\u001b[0m\u001b[0;34m\u001b[0m\u001b[0m\n",
      "\u001b[0;31mNameError\u001b[0m: name 'preds_dt_pcd_cohort' is not defined"
     ]
    }
   ],
   "source": [
    "df_recall.loc[len(df_recall)]=('Decision_Tree','Job_Duration_Previous_Outcome_Cohort',int(100*recall_score(preds_dt_pcd_cohort, y_pcd_cohort_test)))\n",
    "df_recall.head()"
   ]
  },
  {
   "cell_type": "code",
   "execution_count": 291,
   "id": "9cb58ff4",
   "metadata": {},
   "outputs": [
    {
     "data": {
      "text/html": [
       "<div>\n",
       "<style scoped>\n",
       "    .dataframe tbody tr th:only-of-type {\n",
       "        vertical-align: middle;\n",
       "    }\n",
       "\n",
       "    .dataframe tbody tr th {\n",
       "        vertical-align: top;\n",
       "    }\n",
       "\n",
       "    .dataframe thead th {\n",
       "        text-align: right;\n",
       "    }\n",
       "</style>\n",
       "<table border=\"1\" class=\"dataframe\">\n",
       "  <thead>\n",
       "    <tr style=\"text-align: right;\">\n",
       "      <th></th>\n",
       "      <th>Model</th>\n",
       "      <th>Data_Set</th>\n",
       "      <th>Recall_Score</th>\n",
       "    </tr>\n",
       "  </thead>\n",
       "  <tbody>\n",
       "    <tr>\n",
       "      <th>0</th>\n",
       "      <td>SVC</td>\n",
       "      <td>Full Data Set</td>\n",
       "      <td>63</td>\n",
       "    </tr>\n",
       "    <tr>\n",
       "      <th>1</th>\n",
       "      <td>Logistic_Regression</td>\n",
       "      <td>Full Data Set</td>\n",
       "      <td>62</td>\n",
       "    </tr>\n",
       "    <tr>\n",
       "      <th>2</th>\n",
       "      <td>K_Nearest_Neighbor</td>\n",
       "      <td>Full Data Set</td>\n",
       "      <td>58</td>\n",
       "    </tr>\n",
       "    <tr>\n",
       "      <th>3</th>\n",
       "      <td>Decision_Tree</td>\n",
       "      <td>Full Data Set</td>\n",
       "      <td>46</td>\n",
       "    </tr>\n",
       "    <tr>\n",
       "      <th>4</th>\n",
       "      <td>Decision_Tree</td>\n",
       "      <td>Job_Duration_Previous_Outcome</td>\n",
       "      <td>81</td>\n",
       "    </tr>\n",
       "  </tbody>\n",
       "</table>\n",
       "</div>"
      ],
      "text/plain": [
       "                 Model                       Data_Set  Recall_Score\n",
       "0                  SVC                  Full Data Set            63\n",
       "1  Logistic_Regression                  Full Data Set            62\n",
       "2   K_Nearest_Neighbor                  Full Data Set            58\n",
       "3        Decision_Tree                  Full Data Set            46\n",
       "4        Decision_Tree  Job_Duration_Previous_Outcome            81"
      ]
     },
     "execution_count": 291,
     "metadata": {},
     "output_type": "execute_result"
    }
   ],
   "source": [
    "df_recall.loc[len(df_recall)]=('Decision_Tree','Job_Cohort',int(100*recall_score(preds_dt_cohort, y_cohort_test)))\n",
    "df_recall.head()"
   ]
  },
  {
   "cell_type": "code",
   "execution_count": 240,
   "id": "1a2e011c",
   "metadata": {},
   "outputs": [
    {
     "data": {
      "image/png": "[encoded data removed]",
      "text/plain": [
       "<Figure size 640x480 with 1 Axes>"
      ]
     },
     "metadata": {},
     "output_type": "display_data"
    }
   ],
   "source": [
    "sns.barplot(data=df_recall,x='Model',y='Recall_Score_%').set(title=\"Model Scores\")\n",
    "plt.xticks(rotation=90)\n",
    "plt.tight_layout()\n",
    "plt.savefig('/var/local/data/bank_loan_predictor/images/Model_Scores.jpg')\n",
    "plt.show();"
   ]
  },
  {
   "cell_type": "code",
   "execution_count": null,
   "id": "4f517678",
   "metadata": {},
   "outputs": [],
   "source": [
    "##########  APPENDIX   ###########\n",
    "#########   WARNING   ############\n",
    "## LONG RUNNING PROCESSESS AHEAD!  ##\n",
    "#########   WARNING   ############\n",
    "##########  APPENDIX   ###########"
   ]
  },
  {
   "cell_type": "code",
   "execution_count": null,
   "id": "7292fd35",
   "metadata": {},
   "outputs": [],
   "source": []
  },
  {
   "cell_type": "code",
   "execution_count": 8,
   "id": "0bd453ed",
   "metadata": {},
   "outputs": [],
   "source": [
    "#########   WARNING  >1 minute run time ############\n",
    "#### UNCOMMENT TO RUN ########\n",
    "### Sample Result Below\n",
    "###: {'knn__n_neighbors': 5}\n",
    "\n",
    "#%%time\n",
    "#k_range = list(range(2, 32,3))\n",
    "##param_grid = dict(n_neighbors=k_range)\n",
    "#parameters = {'knn__n_neighbors': k_range}\n",
    "\n",
    "  \n",
    "## defining parameter range\n",
    "#grid = GridSearchCV(pipe_knn, parameters, scoring='recall', return_train_score=False,verbose=1)\n",
    "  \n",
    "## fitting the model for grid search\n",
    "#grid_search=grid.fit(X_train, y_train)\n",
    "\n",
    "# best value for k\n",
    "#print('###:',grid_search.best_params_)"
   ]
  },
  {
   "cell_type": "code",
   "execution_count": 150,
   "id": "5dd9fa8b",
   "metadata": {},
   "outputs": [
    {
     "name": "stdout",
     "output_type": "stream",
     "text": [
      "Fitting 5 folds for each of 4 candidates, totalling 20 fits\n",
      "###: {'svc_lr__C': 5}\n",
      "CPU times: user 4min 37s, sys: 2.53 s, total: 4min 39s\n",
      "Wall time: 4min 40s\n"
     ]
    }
   ],
   "source": [
    "#########   WARNING  > 5 minute run time ############\n",
    "#### UNCOMMENT TO RUN ########\n",
    "### Sample Result Below\n",
    "###: {'svc_lr__C': 5}\n",
    "\n",
    "#%%time\n",
    "#c_range =[0.1,0.5,1.0,5] \n",
    "#parameters = {'svc_lr__C': c_range}\n",
    "\n",
    "  \n",
    "## defining parameter range\n",
    "#grid_svc = GridSearchCV(pipe_svc_lr, parameters, scoring='recall', return_train_score=False,verbose=1)\n",
    "  \n",
    "##fitting the model for grid search\n",
    "#grid_search_svc=grid_svc.fit(X_train, y_train)\n",
    "\n",
    "## best value for k\n",
    "#print('###:',grid_search_svc.best_params_)"
   ]
  },
  {
   "cell_type": "code",
   "execution_count": null,
   "id": "20f4ccec",
   "metadata": {},
   "outputs": [],
   "source": []
  }
 ],
 "metadata": {
  "kernelspec": {
   "display_name": "Python 3 (ipykernel)",
   "language": "python",
   "name": "python3"
  },
  "language_info": {
   "codemirror_mode": {
    "name": "ipython",
    "version": 3
   },
   "file_extension": ".py",
   "mimetype": "text/x-python",
   "name": "python",
   "nbconvert_exporter": "python",
   "pygments_lexer": "ipython3",
   "version": "3.9.13"
  }
 },
 "nbformat": 4,
 "nbformat_minor": 5
}
