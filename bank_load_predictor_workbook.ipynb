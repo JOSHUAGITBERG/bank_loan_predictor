{
 "cells": [
  {
   "cell_type": "code",
   "execution_count": 1,
   "id": "207eb277",
   "metadata": {},
   "outputs": [],
   "source": [
    "#imports!\n",
    "\n",
    "import pandas as pd\n",
    "import numpy as np\n",
    "\n",
    "\n",
    "from sklearn.svm import SVC\n",
    "from sklearn.neighbors import KNeighborsClassifier\n",
    "from sklearn.linear_model import LogisticRegression\n",
    "from sklearn.tree import DecisionTreeClassifier\n",
    "from sklearn.model_selection import train_test_split, GridSearchCV, RandomizedSearchCV\n",
    "from sklearn.preprocessing import StandardScaler\n",
    "from sklearn.pipeline import Pipeline\n",
    "from sklearn.metrics import confusion_matrix, classification_report, ConfusionMatrixDisplay, recall_score, precision_score\n",
    "from sklearn.model_selection import GridSearchCV\n",
    "from sklearn import metrics\n",
    "\n",
    "\n",
    "import matplotlib.pyplot as plt\n",
    "import seaborn as sns\n"
   ]
  },
  {
   "cell_type": "code",
   "execution_count": 2,
   "id": "e1857120",
   "metadata": {},
   "outputs": [],
   "source": [
    "# load dataset from here:  https://archive.ics.uci.edu/dataset/222/bank+marketing\n",
    "df=pd.read_csv('Downloads/bank+marketing/bank/bank-full.csv',sep=';')"
   ]
  },
  {
   "cell_type": "code",
   "execution_count": 3,
   "id": "fb594952",
   "metadata": {},
   "outputs": [
    {
     "name": "stdout",
     "output_type": "stream",
     "text": [
      "<class 'pandas.core.frame.DataFrame'>\n",
      "RangeIndex: 45211 entries, 0 to 45210\n",
      "Data columns (total 17 columns):\n",
      " #   Column     Non-Null Count  Dtype \n",
      "---  ------     --------------  ----- \n",
      " 0   age        45211 non-null  int64 \n",
      " 1   job        45211 non-null  object\n",
      " 2   marital    45211 non-null  object\n",
      " 3   education  45211 non-null  object\n",
      " 4   default    45211 non-null  object\n",
      " 5   balance    45211 non-null  int64 \n",
      " 6   housing    45211 non-null  object\n",
      " 7   loan       45211 non-null  object\n",
      " 8   contact    45211 non-null  object\n",
      " 9   day        45211 non-null  int64 \n",
      " 10  month      45211 non-null  object\n",
      " 11  duration   45211 non-null  int64 \n",
      " 12  campaign   45211 non-null  int64 \n",
      " 13  pdays      45211 non-null  int64 \n",
      " 14  previous   45211 non-null  int64 \n",
      " 15  poutcome   45211 non-null  object\n",
      " 16  y          45211 non-null  object\n",
      "dtypes: int64(7), object(10)\n",
      "memory usage: 5.9+ MB\n"
     ]
    }
   ],
   "source": [
    "# several object types to convert to numerical data for modeling\n",
    "df.info()"
   ]
  },
  {
   "cell_type": "code",
   "execution_count": 4,
   "id": "d91a6acc",
   "metadata": {},
   "outputs": [
    {
     "data": {
      "text/plain": [
       "Index(['age', 'job', 'marital', 'education', 'default', 'balance', 'housing',\n",
       "       'loan', 'contact', 'day', 'month', 'duration', 'campaign', 'pdays',\n",
       "       'previous', 'poutcome', 'y'],\n",
       "      dtype='object')"
      ]
     },
     "execution_count": 4,
     "metadata": {},
     "output_type": "execute_result"
    }
   ],
   "source": [
    "df.columns"
   ]
  },
  {
   "cell_type": "code",
   "execution_count": 5,
   "id": "e0957de3",
   "metadata": {},
   "outputs": [
    {
     "data": {
      "text/html": [
       "<div>\n",
       "<style scoped>\n",
       "    .dataframe tbody tr th:only-of-type {\n",
       "        vertical-align: middle;\n",
       "    }\n",
       "\n",
       "    .dataframe tbody tr th {\n",
       "        vertical-align: top;\n",
       "    }\n",
       "\n",
       "    .dataframe thead th {\n",
       "        text-align: right;\n",
       "    }\n",
       "</style>\n",
       "<table border=\"1\" class=\"dataframe\">\n",
       "  <thead>\n",
       "    <tr style=\"text-align: right;\">\n",
       "      <th></th>\n",
       "      <th>age</th>\n",
       "      <th>job</th>\n",
       "      <th>marital</th>\n",
       "      <th>education</th>\n",
       "      <th>default</th>\n",
       "      <th>balance</th>\n",
       "      <th>housing</th>\n",
       "      <th>loan</th>\n",
       "      <th>contact</th>\n",
       "      <th>day</th>\n",
       "      <th>month</th>\n",
       "      <th>duration</th>\n",
       "      <th>campaign</th>\n",
       "      <th>pdays</th>\n",
       "      <th>previous</th>\n",
       "      <th>poutcome</th>\n",
       "      <th>y</th>\n",
       "    </tr>\n",
       "  </thead>\n",
       "  <tbody>\n",
       "    <tr>\n",
       "      <th>0</th>\n",
       "      <td>58</td>\n",
       "      <td>management</td>\n",
       "      <td>married</td>\n",
       "      <td>tertiary</td>\n",
       "      <td>0</td>\n",
       "      <td>2143</td>\n",
       "      <td>1</td>\n",
       "      <td>0</td>\n",
       "      <td>unknown</td>\n",
       "      <td>5</td>\n",
       "      <td>may</td>\n",
       "      <td>261</td>\n",
       "      <td>1</td>\n",
       "      <td>-1</td>\n",
       "      <td>0</td>\n",
       "      <td>unknown</td>\n",
       "      <td>0</td>\n",
       "    </tr>\n",
       "    <tr>\n",
       "      <th>1</th>\n",
       "      <td>44</td>\n",
       "      <td>technician</td>\n",
       "      <td>single</td>\n",
       "      <td>secondary</td>\n",
       "      <td>0</td>\n",
       "      <td>29</td>\n",
       "      <td>1</td>\n",
       "      <td>0</td>\n",
       "      <td>unknown</td>\n",
       "      <td>5</td>\n",
       "      <td>may</td>\n",
       "      <td>151</td>\n",
       "      <td>1</td>\n",
       "      <td>-1</td>\n",
       "      <td>0</td>\n",
       "      <td>unknown</td>\n",
       "      <td>0</td>\n",
       "    </tr>\n",
       "    <tr>\n",
       "      <th>2</th>\n",
       "      <td>33</td>\n",
       "      <td>entrepreneur</td>\n",
       "      <td>married</td>\n",
       "      <td>secondary</td>\n",
       "      <td>0</td>\n",
       "      <td>2</td>\n",
       "      <td>1</td>\n",
       "      <td>1</td>\n",
       "      <td>unknown</td>\n",
       "      <td>5</td>\n",
       "      <td>may</td>\n",
       "      <td>76</td>\n",
       "      <td>1</td>\n",
       "      <td>-1</td>\n",
       "      <td>0</td>\n",
       "      <td>unknown</td>\n",
       "      <td>0</td>\n",
       "    </tr>\n",
       "    <tr>\n",
       "      <th>3</th>\n",
       "      <td>47</td>\n",
       "      <td>blue-collar</td>\n",
       "      <td>married</td>\n",
       "      <td>unknown</td>\n",
       "      <td>0</td>\n",
       "      <td>1506</td>\n",
       "      <td>1</td>\n",
       "      <td>0</td>\n",
       "      <td>unknown</td>\n",
       "      <td>5</td>\n",
       "      <td>may</td>\n",
       "      <td>92</td>\n",
       "      <td>1</td>\n",
       "      <td>-1</td>\n",
       "      <td>0</td>\n",
       "      <td>unknown</td>\n",
       "      <td>0</td>\n",
       "    </tr>\n",
       "    <tr>\n",
       "      <th>4</th>\n",
       "      <td>33</td>\n",
       "      <td>unknown</td>\n",
       "      <td>single</td>\n",
       "      <td>unknown</td>\n",
       "      <td>0</td>\n",
       "      <td>1</td>\n",
       "      <td>0</td>\n",
       "      <td>0</td>\n",
       "      <td>unknown</td>\n",
       "      <td>5</td>\n",
       "      <td>may</td>\n",
       "      <td>198</td>\n",
       "      <td>1</td>\n",
       "      <td>-1</td>\n",
       "      <td>0</td>\n",
       "      <td>unknown</td>\n",
       "      <td>0</td>\n",
       "    </tr>\n",
       "  </tbody>\n",
       "</table>\n",
       "</div>"
      ],
      "text/plain": [
       "   age           job  marital  education  default  balance  housing  loan  \\\n",
       "0   58    management  married   tertiary        0     2143        1     0   \n",
       "1   44    technician   single  secondary        0       29        1     0   \n",
       "2   33  entrepreneur  married  secondary        0        2        1     1   \n",
       "3   47   blue-collar  married    unknown        0     1506        1     0   \n",
       "4   33       unknown   single    unknown        0        1        0     0   \n",
       "\n",
       "   contact  day month  duration  campaign  pdays  previous poutcome  y  \n",
       "0  unknown    5   may       261         1     -1         0  unknown  0  \n",
       "1  unknown    5   may       151         1     -1         0  unknown  0  \n",
       "2  unknown    5   may        76         1     -1         0  unknown  0  \n",
       "3  unknown    5   may        92         1     -1         0  unknown  0  \n",
       "4  unknown    5   may       198         1     -1         0  unknown  0  "
      ]
     },
     "execution_count": 5,
     "metadata": {},
     "output_type": "execute_result"
    }
   ],
   "source": [
    "#Convert binary categorical features to a numerical form\n",
    "df['default']=df.default.map(dict(yes=1,no=0))\n",
    "df['housing']=df.housing.map(dict(yes=1,no=0))\n",
    "df['loan']=df.loan.map(dict(yes=1,no=0))\n",
    "df['y']=df.y.map(dict(yes=1,no=0))\n",
    "df.head()"
   ]
  },
  {
   "cell_type": "code",
   "execution_count": 6,
   "id": "36417790",
   "metadata": {},
   "outputs": [
    {
     "data": {
      "text/plain": [
       "1    32191\n",
       "0    13020\n",
       "Name: contact, dtype: int64"
      ]
     },
     "execution_count": 6,
     "metadata": {},
     "output_type": "execute_result"
    }
   ],
   "source": [
    "# Blend cellular and telephone to establish a binary\n",
    "# Change contact to a numerical type.  \n",
    "df['contact']=df.contact.map(dict({'cellular':1,'unknown':0,'telephone':1}))\n",
    "df['contact'].value_counts()"
   ]
  },
  {
   "cell_type": "code",
   "execution_count": 7,
   "id": "5d890e2d",
   "metadata": {},
   "outputs": [
    {
     "data": {
      "text/html": [
       "<div>\n",
       "<style scoped>\n",
       "    .dataframe tbody tr th:only-of-type {\n",
       "        vertical-align: middle;\n",
       "    }\n",
       "\n",
       "    .dataframe tbody tr th {\n",
       "        vertical-align: top;\n",
       "    }\n",
       "\n",
       "    .dataframe thead th {\n",
       "        text-align: right;\n",
       "    }\n",
       "</style>\n",
       "<table border=\"1\" class=\"dataframe\">\n",
       "  <thead>\n",
       "    <tr style=\"text-align: right;\">\n",
       "      <th></th>\n",
       "      <th>age</th>\n",
       "      <th>job</th>\n",
       "      <th>marital</th>\n",
       "      <th>education</th>\n",
       "      <th>default</th>\n",
       "      <th>balance</th>\n",
       "      <th>housing</th>\n",
       "      <th>loan</th>\n",
       "      <th>contact</th>\n",
       "      <th>day</th>\n",
       "      <th>month</th>\n",
       "      <th>duration</th>\n",
       "      <th>campaign</th>\n",
       "      <th>pdays</th>\n",
       "      <th>previous</th>\n",
       "      <th>poutcome</th>\n",
       "      <th>y</th>\n",
       "    </tr>\n",
       "  </thead>\n",
       "  <tbody>\n",
       "    <tr>\n",
       "      <th>0</th>\n",
       "      <td>58</td>\n",
       "      <td>management</td>\n",
       "      <td>married</td>\n",
       "      <td>tertiary</td>\n",
       "      <td>0</td>\n",
       "      <td>2143</td>\n",
       "      <td>1</td>\n",
       "      <td>0</td>\n",
       "      <td>0</td>\n",
       "      <td>5</td>\n",
       "      <td>5</td>\n",
       "      <td>261</td>\n",
       "      <td>1</td>\n",
       "      <td>-1</td>\n",
       "      <td>0</td>\n",
       "      <td>unknown</td>\n",
       "      <td>0</td>\n",
       "    </tr>\n",
       "    <tr>\n",
       "      <th>1</th>\n",
       "      <td>44</td>\n",
       "      <td>technician</td>\n",
       "      <td>single</td>\n",
       "      <td>secondary</td>\n",
       "      <td>0</td>\n",
       "      <td>29</td>\n",
       "      <td>1</td>\n",
       "      <td>0</td>\n",
       "      <td>0</td>\n",
       "      <td>5</td>\n",
       "      <td>5</td>\n",
       "      <td>151</td>\n",
       "      <td>1</td>\n",
       "      <td>-1</td>\n",
       "      <td>0</td>\n",
       "      <td>unknown</td>\n",
       "      <td>0</td>\n",
       "    </tr>\n",
       "    <tr>\n",
       "      <th>2</th>\n",
       "      <td>33</td>\n",
       "      <td>entrepreneur</td>\n",
       "      <td>married</td>\n",
       "      <td>secondary</td>\n",
       "      <td>0</td>\n",
       "      <td>2</td>\n",
       "      <td>1</td>\n",
       "      <td>1</td>\n",
       "      <td>0</td>\n",
       "      <td>5</td>\n",
       "      <td>5</td>\n",
       "      <td>76</td>\n",
       "      <td>1</td>\n",
       "      <td>-1</td>\n",
       "      <td>0</td>\n",
       "      <td>unknown</td>\n",
       "      <td>0</td>\n",
       "    </tr>\n",
       "    <tr>\n",
       "      <th>3</th>\n",
       "      <td>47</td>\n",
       "      <td>blue-collar</td>\n",
       "      <td>married</td>\n",
       "      <td>unknown</td>\n",
       "      <td>0</td>\n",
       "      <td>1506</td>\n",
       "      <td>1</td>\n",
       "      <td>0</td>\n",
       "      <td>0</td>\n",
       "      <td>5</td>\n",
       "      <td>5</td>\n",
       "      <td>92</td>\n",
       "      <td>1</td>\n",
       "      <td>-1</td>\n",
       "      <td>0</td>\n",
       "      <td>unknown</td>\n",
       "      <td>0</td>\n",
       "    </tr>\n",
       "    <tr>\n",
       "      <th>4</th>\n",
       "      <td>33</td>\n",
       "      <td>unknown</td>\n",
       "      <td>single</td>\n",
       "      <td>unknown</td>\n",
       "      <td>0</td>\n",
       "      <td>1</td>\n",
       "      <td>0</td>\n",
       "      <td>0</td>\n",
       "      <td>0</td>\n",
       "      <td>5</td>\n",
       "      <td>5</td>\n",
       "      <td>198</td>\n",
       "      <td>1</td>\n",
       "      <td>-1</td>\n",
       "      <td>0</td>\n",
       "      <td>unknown</td>\n",
       "      <td>0</td>\n",
       "    </tr>\n",
       "  </tbody>\n",
       "</table>\n",
       "</div>"
      ],
      "text/plain": [
       "   age           job  marital  education  default  balance  housing  loan  \\\n",
       "0   58    management  married   tertiary        0     2143        1     0   \n",
       "1   44    technician   single  secondary        0       29        1     0   \n",
       "2   33  entrepreneur  married  secondary        0        2        1     1   \n",
       "3   47   blue-collar  married    unknown        0     1506        1     0   \n",
       "4   33       unknown   single    unknown        0        1        0     0   \n",
       "\n",
       "   contact  day  month  duration  campaign  pdays  previous poutcome  y  \n",
       "0        0    5      5       261         1     -1         0  unknown  0  \n",
       "1        0    5      5       151         1     -1         0  unknown  0  \n",
       "2        0    5      5        76         1     -1         0  unknown  0  \n",
       "3        0    5      5        92         1     -1         0  unknown  0  \n",
       "4        0    5      5       198         1     -1         0  unknown  0  "
      ]
     },
     "execution_count": 7,
     "metadata": {},
     "output_type": "execute_result"
    }
   ],
   "source": [
    "#Convert months from string to int\n",
    "df['month']=df.month.map(dict({'jan':1,'feb':2,'mar':3,'apr':4,'may':5,'jun':6,'jul':7,'aug':8,'sep':9,'oct':10,'nov':11,'dec':12}))\n",
    "df.head()"
   ]
  },
  {
   "cell_type": "code",
   "execution_count": 8,
   "id": "2691adba",
   "metadata": {},
   "outputs": [
    {
     "data": {
      "text/html": [
       "<div>\n",
       "<style scoped>\n",
       "    .dataframe tbody tr th:only-of-type {\n",
       "        vertical-align: middle;\n",
       "    }\n",
       "\n",
       "    .dataframe tbody tr th {\n",
       "        vertical-align: top;\n",
       "    }\n",
       "\n",
       "    .dataframe thead th {\n",
       "        text-align: right;\n",
       "    }\n",
       "</style>\n",
       "<table border=\"1\" class=\"dataframe\">\n",
       "  <thead>\n",
       "    <tr style=\"text-align: right;\">\n",
       "      <th></th>\n",
       "      <th>age</th>\n",
       "      <th>job</th>\n",
       "      <th>marital</th>\n",
       "      <th>education</th>\n",
       "      <th>default</th>\n",
       "      <th>balance</th>\n",
       "      <th>housing</th>\n",
       "      <th>loan</th>\n",
       "      <th>contact</th>\n",
       "      <th>day</th>\n",
       "      <th>month</th>\n",
       "      <th>duration</th>\n",
       "      <th>campaign</th>\n",
       "      <th>pdays</th>\n",
       "      <th>previous</th>\n",
       "      <th>poutcome</th>\n",
       "      <th>y</th>\n",
       "    </tr>\n",
       "  </thead>\n",
       "  <tbody>\n",
       "    <tr>\n",
       "      <th>0</th>\n",
       "      <td>58</td>\n",
       "      <td>management</td>\n",
       "      <td>married</td>\n",
       "      <td>tertiary</td>\n",
       "      <td>0</td>\n",
       "      <td>2143</td>\n",
       "      <td>1</td>\n",
       "      <td>0</td>\n",
       "      <td>0</td>\n",
       "      <td>5</td>\n",
       "      <td>5</td>\n",
       "      <td>261</td>\n",
       "      <td>1</td>\n",
       "      <td>-1</td>\n",
       "      <td>0</td>\n",
       "      <td>0</td>\n",
       "      <td>0</td>\n",
       "    </tr>\n",
       "    <tr>\n",
       "      <th>1</th>\n",
       "      <td>44</td>\n",
       "      <td>technician</td>\n",
       "      <td>single</td>\n",
       "      <td>secondary</td>\n",
       "      <td>0</td>\n",
       "      <td>29</td>\n",
       "      <td>1</td>\n",
       "      <td>0</td>\n",
       "      <td>0</td>\n",
       "      <td>5</td>\n",
       "      <td>5</td>\n",
       "      <td>151</td>\n",
       "      <td>1</td>\n",
       "      <td>-1</td>\n",
       "      <td>0</td>\n",
       "      <td>0</td>\n",
       "      <td>0</td>\n",
       "    </tr>\n",
       "    <tr>\n",
       "      <th>2</th>\n",
       "      <td>33</td>\n",
       "      <td>entrepreneur</td>\n",
       "      <td>married</td>\n",
       "      <td>secondary</td>\n",
       "      <td>0</td>\n",
       "      <td>2</td>\n",
       "      <td>1</td>\n",
       "      <td>1</td>\n",
       "      <td>0</td>\n",
       "      <td>5</td>\n",
       "      <td>5</td>\n",
       "      <td>76</td>\n",
       "      <td>1</td>\n",
       "      <td>-1</td>\n",
       "      <td>0</td>\n",
       "      <td>0</td>\n",
       "      <td>0</td>\n",
       "    </tr>\n",
       "    <tr>\n",
       "      <th>3</th>\n",
       "      <td>47</td>\n",
       "      <td>blue-collar</td>\n",
       "      <td>married</td>\n",
       "      <td>unknown</td>\n",
       "      <td>0</td>\n",
       "      <td>1506</td>\n",
       "      <td>1</td>\n",
       "      <td>0</td>\n",
       "      <td>0</td>\n",
       "      <td>5</td>\n",
       "      <td>5</td>\n",
       "      <td>92</td>\n",
       "      <td>1</td>\n",
       "      <td>-1</td>\n",
       "      <td>0</td>\n",
       "      <td>0</td>\n",
       "      <td>0</td>\n",
       "    </tr>\n",
       "    <tr>\n",
       "      <th>4</th>\n",
       "      <td>33</td>\n",
       "      <td>unknown</td>\n",
       "      <td>single</td>\n",
       "      <td>unknown</td>\n",
       "      <td>0</td>\n",
       "      <td>1</td>\n",
       "      <td>0</td>\n",
       "      <td>0</td>\n",
       "      <td>0</td>\n",
       "      <td>5</td>\n",
       "      <td>5</td>\n",
       "      <td>198</td>\n",
       "      <td>1</td>\n",
       "      <td>-1</td>\n",
       "      <td>0</td>\n",
       "      <td>0</td>\n",
       "      <td>0</td>\n",
       "    </tr>\n",
       "  </tbody>\n",
       "</table>\n",
       "</div>"
      ],
      "text/plain": [
       "   age           job  marital  education  default  balance  housing  loan  \\\n",
       "0   58    management  married   tertiary        0     2143        1     0   \n",
       "1   44    technician   single  secondary        0       29        1     0   \n",
       "2   33  entrepreneur  married  secondary        0        2        1     1   \n",
       "3   47   blue-collar  married    unknown        0     1506        1     0   \n",
       "4   33       unknown   single    unknown        0        1        0     0   \n",
       "\n",
       "   contact  day  month  duration  campaign  pdays  previous  poutcome  y  \n",
       "0        0    5      5       261         1     -1         0         0  0  \n",
       "1        0    5      5       151         1     -1         0         0  0  \n",
       "2        0    5      5        76         1     -1         0         0  0  \n",
       "3        0    5      5        92         1     -1         0         0  0  \n",
       "4        0    5      5       198         1     -1         0         0  0  "
      ]
     },
     "execution_count": 8,
     "metadata": {},
     "output_type": "execute_result"
    }
   ],
   "source": [
    "# change previous outcome poutcome to numerical.  \n",
    "df['poutcome']=df.poutcome.map(dict({'failure':-1,'unknown':0,'other':0,'success':1}))\n",
    "df.head()"
   ]
  },
  {
   "cell_type": "code",
   "execution_count": 9,
   "id": "938ea2f7",
   "metadata": {},
   "outputs": [
    {
     "data": {
      "text/html": [
       "<div>\n",
       "<style scoped>\n",
       "    .dataframe tbody tr th:only-of-type {\n",
       "        vertical-align: middle;\n",
       "    }\n",
       "\n",
       "    .dataframe tbody tr th {\n",
       "        vertical-align: top;\n",
       "    }\n",
       "\n",
       "    .dataframe thead th {\n",
       "        text-align: right;\n",
       "    }\n",
       "</style>\n",
       "<table border=\"1\" class=\"dataframe\">\n",
       "  <thead>\n",
       "    <tr style=\"text-align: right;\">\n",
       "      <th></th>\n",
       "      <th>age</th>\n",
       "      <th>job</th>\n",
       "      <th>marital</th>\n",
       "      <th>education</th>\n",
       "      <th>default</th>\n",
       "      <th>balance</th>\n",
       "      <th>housing</th>\n",
       "      <th>loan</th>\n",
       "      <th>contact</th>\n",
       "      <th>day</th>\n",
       "      <th>month</th>\n",
       "      <th>duration</th>\n",
       "      <th>campaign</th>\n",
       "      <th>pdays</th>\n",
       "      <th>previous</th>\n",
       "      <th>poutcome</th>\n",
       "      <th>y</th>\n",
       "    </tr>\n",
       "  </thead>\n",
       "  <tbody>\n",
       "    <tr>\n",
       "      <th>0</th>\n",
       "      <td>58</td>\n",
       "      <td>management</td>\n",
       "      <td>1</td>\n",
       "      <td>3</td>\n",
       "      <td>0</td>\n",
       "      <td>2143</td>\n",
       "      <td>1</td>\n",
       "      <td>0</td>\n",
       "      <td>0</td>\n",
       "      <td>5</td>\n",
       "      <td>5</td>\n",
       "      <td>261</td>\n",
       "      <td>1</td>\n",
       "      <td>-1</td>\n",
       "      <td>0</td>\n",
       "      <td>0</td>\n",
       "      <td>0</td>\n",
       "    </tr>\n",
       "    <tr>\n",
       "      <th>1</th>\n",
       "      <td>44</td>\n",
       "      <td>technician</td>\n",
       "      <td>0</td>\n",
       "      <td>2</td>\n",
       "      <td>0</td>\n",
       "      <td>29</td>\n",
       "      <td>1</td>\n",
       "      <td>0</td>\n",
       "      <td>0</td>\n",
       "      <td>5</td>\n",
       "      <td>5</td>\n",
       "      <td>151</td>\n",
       "      <td>1</td>\n",
       "      <td>-1</td>\n",
       "      <td>0</td>\n",
       "      <td>0</td>\n",
       "      <td>0</td>\n",
       "    </tr>\n",
       "    <tr>\n",
       "      <th>2</th>\n",
       "      <td>33</td>\n",
       "      <td>entrepreneur</td>\n",
       "      <td>1</td>\n",
       "      <td>2</td>\n",
       "      <td>0</td>\n",
       "      <td>2</td>\n",
       "      <td>1</td>\n",
       "      <td>1</td>\n",
       "      <td>0</td>\n",
       "      <td>5</td>\n",
       "      <td>5</td>\n",
       "      <td>76</td>\n",
       "      <td>1</td>\n",
       "      <td>-1</td>\n",
       "      <td>0</td>\n",
       "      <td>0</td>\n",
       "      <td>0</td>\n",
       "    </tr>\n",
       "    <tr>\n",
       "      <th>3</th>\n",
       "      <td>47</td>\n",
       "      <td>blue-collar</td>\n",
       "      <td>1</td>\n",
       "      <td>0</td>\n",
       "      <td>0</td>\n",
       "      <td>1506</td>\n",
       "      <td>1</td>\n",
       "      <td>0</td>\n",
       "      <td>0</td>\n",
       "      <td>5</td>\n",
       "      <td>5</td>\n",
       "      <td>92</td>\n",
       "      <td>1</td>\n",
       "      <td>-1</td>\n",
       "      <td>0</td>\n",
       "      <td>0</td>\n",
       "      <td>0</td>\n",
       "    </tr>\n",
       "    <tr>\n",
       "      <th>4</th>\n",
       "      <td>33</td>\n",
       "      <td>unknown</td>\n",
       "      <td>0</td>\n",
       "      <td>0</td>\n",
       "      <td>0</td>\n",
       "      <td>1</td>\n",
       "      <td>0</td>\n",
       "      <td>0</td>\n",
       "      <td>0</td>\n",
       "      <td>5</td>\n",
       "      <td>5</td>\n",
       "      <td>198</td>\n",
       "      <td>1</td>\n",
       "      <td>-1</td>\n",
       "      <td>0</td>\n",
       "      <td>0</td>\n",
       "      <td>0</td>\n",
       "    </tr>\n",
       "  </tbody>\n",
       "</table>\n",
       "</div>"
      ],
      "text/plain": [
       "   age           job  marital  education  default  balance  housing  loan  \\\n",
       "0   58    management        1          3        0     2143        1     0   \n",
       "1   44    technician        0          2        0       29        1     0   \n",
       "2   33  entrepreneur        1          2        0        2        1     1   \n",
       "3   47   blue-collar        1          0        0     1506        1     0   \n",
       "4   33       unknown        0          0        0        1        0     0   \n",
       "\n",
       "   contact  day  month  duration  campaign  pdays  previous  poutcome  y  \n",
       "0        0    5      5       261         1     -1         0         0  0  \n",
       "1        0    5      5       151         1     -1         0         0  0  \n",
       "2        0    5      5        76         1     -1         0         0  0  \n",
       "3        0    5      5        92         1     -1         0         0  0  \n",
       "4        0    5      5       198         1     -1         0         0  0  "
      ]
     },
     "execution_count": 9,
     "metadata": {},
     "output_type": "execute_result"
    }
   ],
   "source": [
    "# Change education and marital to numerical object types\n",
    "df['education']=df.education.map(dict({'unknown':0,'primary':1,'secondary':2,'tertiary':3}))\n",
    "df['marital']=df.marital.map(dict({'single':0,'married':1,'divorced':-1}))\n",
    "df.head()"
   ]
  },
  {
   "cell_type": "code",
   "execution_count": 10,
   "id": "036f9111",
   "metadata": {},
   "outputs": [],
   "source": [
    "# Build training and test datasets for modeling.  Drop job bc it is categorical.  \n",
    "# Will use groups later to explore jobs impact on results\n",
    "X=df.drop(['y','job'],axis=1)\n",
    "y=df['y']\n",
    "X_train, X_test, y_train, y_test = train_test_split(X, y, test_size=0.33, random_state=42)"
   ]
  },
  {
   "cell_type": "code",
   "execution_count": 11,
   "id": "29826861",
   "metadata": {},
   "outputs": [
    {
     "data": {
      "text/plain": [
       "0    39922\n",
       "1     5289\n",
       "Name: y, dtype: int64"
      ]
     },
     "execution_count": 11,
     "metadata": {},
     "output_type": "execute_result"
    }
   ],
   "source": [
    "# fairly imbalanced dataset at 89% 'no'.  Consider oversampling if models are not productive.\n",
    "y.value_counts()"
   ]
  },
  {
   "cell_type": "code",
   "execution_count": 12,
   "id": "ae82b723",
   "metadata": {},
   "outputs": [],
   "source": [
    "# Methodology:\n",
    "# Create pipes for each algorithm that scale and fit a model against train data\n",
    "# Measure precision for each algorithm to establish best model and to tune parameters\n",
    "# Use feature weights from each algorithm to identify potential cohorts that will optimize distribution of 'y' \n",
    "# Measure the % 'y' of different cohorts within the original dataset to drive insights and actions\n",
    "# Note that parameter optimization is included in the appendix, but commented out bc it is process intensive"
   ]
  },
  {
   "cell_type": "code",
   "execution_count": 13,
   "id": "dc8a8e72",
   "metadata": {
    "scrolled": true
   },
   "outputs": [
    {
     "name": "stdout",
     "output_type": "stream",
     "text": [
      "CPU times: user 2 µs, sys: 0 ns, total: 2 µs\n",
      "Wall time: 6.2 µs\n"
     ]
    },
    {
     "name": "stderr",
     "output_type": "stream",
     "text": [
      "/Users/joshuagreenberg/opt/anaconda3/lib/python3.9/site-packages/sklearn/neighbors/_classification.py:228: FutureWarning: Unlike other reduction functions (e.g. `skew`, `kurtosis`), the default behavior of `mode` typically preserves the axis it acts along. In SciPy 1.11.0, this behavior will change: the default value of `keepdims` will become False, the `axis` over which the statistic is taken will be eliminated, and the value None will no longer be accepted. Set `keepdims` to True or False to avoid this warning.\n",
      "  mode, _ = stats.mode(_y[neigh_ind, k], axis=1)\n"
     ]
    }
   ],
   "source": [
    "# GridSearch optimized for precision determined optimal n_neighbors to be 5.  See code in Appendix for more detail.\n",
    "# Note that Gridsearches take a long time to run.  Uncomment them if you want to run them yourself.\n",
    "%time\n",
    "pipe_knn=Pipeline([('scale',StandardScaler()),('knn',KNeighborsClassifier(n_neighbors=26))])\n",
    "pipe_knn.fit(X_train,y_train)\n",
    "preds_knn=pipe_knn.predict(X_test)"
   ]
  },
  {
   "cell_type": "code",
   "execution_count": 14,
   "id": "8db27aa4",
   "metadata": {},
   "outputs": [
    {
     "name": "stdout",
     "output_type": "stream",
     "text": [
      "CPU times: user 2 µs, sys: 0 ns, total: 2 µs\n",
      "Wall time: 4.77 µs\n"
     ]
    }
   ],
   "source": [
    "# Logicstic Regression Pipeline\n",
    "%time\n",
    "pipe_lr=Pipeline([('scale',StandardScaler()),('lr',LogisticRegression())])\n",
    "pipe_lr.fit(X_train,y_train)\n",
    "preds_lr=pipe_lr.predict(X_test)"
   ]
  },
  {
   "cell_type": "code",
   "execution_count": 15,
   "id": "62f8c048",
   "metadata": {},
   "outputs": [
    {
     "name": "stdout",
     "output_type": "stream",
     "text": [
      "CPU times: user 26 µs, sys: 1 µs, total: 27 µs\n",
      "Wall time: 4.05 µs\n"
     ]
    }
   ],
   "source": [
    "# Decision Tree Pipeline\n",
    "%time\n",
    "pipe_dt=Pipeline([('scale',StandardScaler()),('dt',DecisionTreeClassifier())])\n",
    "pipe_dt.fit(X_train,y_train)\n",
    "preds_dt=pipe_dt.predict(X_test)"
   ]
  },
  {
   "cell_type": "code",
   "execution_count": 16,
   "id": "f55a8d36",
   "metadata": {},
   "outputs": [
    {
     "name": "stdout",
     "output_type": "stream",
     "text": [
      "CPU times: user 2 µs, sys: 1 µs, total: 3 µs\n",
      "Wall time: 5.25 µs\n"
     ]
    }
   ],
   "source": [
    "# SVC (rbf) Regression Pipeline\n",
    "%time\n",
    "pipe_svc=Pipeline([('scale',StandardScaler()),('svc',SVC(C=5))])\n",
    "pipe_svc.fit(X_train,y_train)\n",
    "preds_svc=pipe_svc.predict(X_test)"
   ]
  },
  {
   "cell_type": "code",
   "execution_count": 17,
   "id": "ced12a66",
   "metadata": {},
   "outputs": [
    {
     "name": "stdout",
     "output_type": "stream",
     "text": [
      "CPU times: user 2 µs, sys: 1 µs, total: 3 µs\n",
      "Wall time: 5.01 µs\n"
     ]
    }
   ],
   "source": [
    "#  Polynomial Linear Regression pipeline\n",
    "%time\n",
    "pipe_svc_lr=Pipeline([('scale',StandardScaler()),('svc_lr',SVC(kernel='linear',C=5))])\n",
    "pipe_svc_lr.fit(X_train,y_train)\n",
    "preds_svc_lr=pipe_svc_lr.predict(X_test)\n"
   ]
  },
  {
   "cell_type": "code",
   "execution_count": 18,
   "id": "7bf6269b",
   "metadata": {},
   "outputs": [
    {
     "name": "stdout",
     "output_type": "stream",
     "text": [
      "CPU times: user 18 µs, sys: 0 ns, total: 18 µs\n",
      "Wall time: 21 µs\n"
     ]
    }
   ],
   "source": [
    "#  Polynomial SVC pipeline\n",
    "%time\n",
    "pipe_svc_poly=Pipeline([('scale',StandardScaler()),('svc_poly',SVC(kernel='poly',C=5))])\n",
    "pipe_svc_poly.fit(X_train,y_train)\n",
    "preds_svc_poly=pipe_svc_poly.predict(X_test)\n"
   ]
  },
  {
   "cell_type": "code",
   "execution_count": 19,
   "id": "c1d12bb7",
   "metadata": {},
   "outputs": [
    {
     "data": {
      "text/html": [
       "<div>\n",
       "<style scoped>\n",
       "    .dataframe tbody tr th:only-of-type {\n",
       "        vertical-align: middle;\n",
       "    }\n",
       "\n",
       "    .dataframe tbody tr th {\n",
       "        vertical-align: top;\n",
       "    }\n",
       "\n",
       "    .dataframe thead th {\n",
       "        text-align: right;\n",
       "    }\n",
       "</style>\n",
       "<table border=\"1\" class=\"dataframe\">\n",
       "  <thead>\n",
       "    <tr style=\"text-align: right;\">\n",
       "      <th></th>\n",
       "      <th>Model</th>\n",
       "      <th>Precision_Score_%</th>\n",
       "    </tr>\n",
       "  </thead>\n",
       "  <tbody>\n",
       "    <tr>\n",
       "      <th>3</th>\n",
       "      <td>Decision_Tree</td>\n",
       "      <td>46</td>\n",
       "    </tr>\n",
       "    <tr>\n",
       "      <th>1</th>\n",
       "      <td>Logistic_Regression</td>\n",
       "      <td>62</td>\n",
       "    </tr>\n",
       "    <tr>\n",
       "      <th>0</th>\n",
       "      <td>SVC</td>\n",
       "      <td>63</td>\n",
       "    </tr>\n",
       "    <tr>\n",
       "      <th>5</th>\n",
       "      <td>SVC_poly</td>\n",
       "      <td>63</td>\n",
       "    </tr>\n",
       "    <tr>\n",
       "      <th>2</th>\n",
       "      <td>K_Nearest_Neighbor</td>\n",
       "      <td>65</td>\n",
       "    </tr>\n",
       "    <tr>\n",
       "      <th>4</th>\n",
       "      <td>SVC_lr</td>\n",
       "      <td>67</td>\n",
       "    </tr>\n",
       "  </tbody>\n",
       "</table>\n",
       "</div>"
      ],
      "text/plain": [
       "                 Model  Precision_Score_%\n",
       "3        Decision_Tree                 46\n",
       "1  Logistic_Regression                 62\n",
       "0                  SVC                 63\n",
       "5             SVC_poly                 63\n",
       "2   K_Nearest_Neighbor                 65\n",
       "4               SVC_lr                 67"
      ]
     },
     "execution_count": 19,
     "metadata": {},
     "output_type": "execute_result"
    }
   ],
   "source": [
    "# Compare again, this i\n",
    "df_precision=pd.DataFrame(columns=('Model','Precision_Score_%'))\n",
    "df_precision.loc[len(df_precision)]=('SVC',int(100*precision_score(y_test,preds_svc)))\n",
    "df_precision.loc[len(df_precision)]=('Logistic_Regression',int(100*precision_score(y_test,preds_lr)))\n",
    "df_precision.loc[len(df_precision)]=('K_Nearest_Neighbor',int(100*precision_score(y_test,preds_knn)))\n",
    "df_precision.loc[len(df_precision)]=('Decision_Tree',int(100*precision_score(y_test,preds_dt)))\n",
    "df_precision.loc[len(df_precision)]=('SVC_lr',int(100*precision_score(y_test,preds_svc_lr)))\n",
    "df_precision.loc[len(df_precision)]=('SVC_poly',int(100*precision_score(y_test,preds_svc_poly)))\n",
    "df_precision=df_precision.sort_values(by='Precision_Score_%')\n",
    "\n",
    "\n",
    "df_precision.head(10)"
   ]
  },
  {
   "cell_type": "code",
   "execution_count": 20,
   "id": "bdd02986",
   "metadata": {},
   "outputs": [
    {
     "data": {
      "image/png": "[encoded data removed]",
      "text/plain": [
       "<Figure size 640x480 with 1 Axes>"
      ]
     },
     "metadata": {},
     "output_type": "display_data"
    }
   ],
   "source": [
    "sns.barplot(data=df_precision,x='Model',y='Precision_Score_%').set(title=\"Model Scores\")\n",
    "plt.xticks(rotation=90)\n",
    "plt.tight_layout()\n",
    "plt.savefig('/var/local/data/bank_loan_predictor/images/Model_Scores.jpg')\n",
    "plt.show();"
   ]
  },
  {
   "cell_type": "code",
   "execution_count": 21,
   "id": "b39eedc1",
   "metadata": {},
   "outputs": [
    {
     "name": "stdout",
     "output_type": "stream",
     "text": [
      "uniform \n",
      "\n",
      "[[ 0.03314937 -0.11904886  0.1313086  -0.03267785  0.05527678 -0.45794359\n",
      "  -0.23638935  0.60755117 -0.03289361 -0.02878567  1.03785855 -0.42882605\n",
      "   0.34481068  0.13331141  0.46417372]] \n",
      "\n",
      "[0.10143481 0.0223151  0.02392396 0.00192938 0.12849285 0.01591368\n",
      " 0.00687633 0.01680537 0.0962572  0.08131399 0.30138664 0.03357708\n",
      " 0.05590363 0.0177844  0.09608559] \n",
      "\n",
      "[[ 0.02470352 -0.02552545  0.0351482  -0.008227    0.01138382 -0.12013715\n",
      "  -0.06760075  0.13946942 -0.00408879  0.00445649  0.32997048 -0.10257084\n",
      "   0.1359816   0.03309873  0.23382416]] \n",
      "\n"
     ]
    }
   ],
   "source": [
    "# Test run to ensure coef_ look sane\n",
    "print(pipe_knn.named_steps.knn.weights,'\\n')  # KNN does not have a numerical method for feature importance\n",
    "print(pipe_lr.named_steps.lr.coef_,'\\n')\n",
    "print(pipe_dt.named_steps.dt.feature_importances_,'\\n')\n",
    "print(pipe_svc_lr.named_steps.svc_lr.coef_,'\\n')"
   ]
  },
  {
   "cell_type": "code",
   "execution_count": 22,
   "id": "57c7a4eb",
   "metadata": {},
   "outputs": [
    {
     "data": {
      "image/png": "[encoded data removed]",
      "text/plain": [
       "<Figure size 640x480 with 1 Axes>"
      ]
     },
     "metadata": {},
     "output_type": "display_data"
    }
   ],
   "source": [
    "#print(pipe_lr.named_steps.scale.get_feature_names_out())\n",
    "df_lr_features=pd.DataFrame(pipe_lr.named_steps.lr.coef_,columns=pipe_lr.named_steps.scale.get_feature_names_out())\n",
    "df_lr_features=df_lr_features.sort_values(by=0, ascending=True, axis=1)\n",
    "df_lr_features.head()\n",
    "sns.barplot(data=df_lr_features).set(title='Logistic Regression Feature Importance')\n",
    "plt.xticks(rotation=90);"
   ]
  },
  {
   "cell_type": "code",
   "execution_count": 23,
   "id": "ef3c3caf",
   "metadata": {},
   "outputs": [
    {
     "data": {
      "image/png": "[encoded data removed]",
      "text/plain": [
       "<Figure size 640x480 with 1 Axes>"
      ]
     },
     "metadata": {},
     "output_type": "display_data"
    }
   ],
   "source": [
    "#print(pipe_lr.named_steps.scale.get_feature_names_out())\n",
    "df_svc_features=pd.DataFrame(pipe_svc_lr.named_steps.svc_lr.coef_,columns=pipe_svc_lr.named_steps.scale.get_feature_names_out())\n",
    "df_svc_features=df_svc_features.sort_values(by=0, ascending=True, axis=1)\n",
    "df_svc_features.head()\n",
    "sns.barplot(data=df_svc_features).set(title='SVC Feature Importance')\n",
    "plt.xticks(rotation=90);"
   ]
  },
  {
   "cell_type": "code",
   "execution_count": 24,
   "id": "fdb86310",
   "metadata": {},
   "outputs": [
    {
     "data": {
      "image/png": "[encoded data removed]",
      "text/plain": [
       "<Figure size 640x480 with 1 Axes>"
      ]
     },
     "metadata": {},
     "output_type": "display_data"
    }
   ],
   "source": [
    "df_dt_features=pd.DataFrame(columns=pipe_dt.named_steps.scale.get_feature_names_out())\n",
    "df_dt_features.loc[len(df_dt_features)] = pipe_dt.named_steps.dt.feature_importances_\n",
    "df_dt_features=df_dt_features.sort_values(by=0, ascending=True, axis=1)\n",
    "df_dt_features.head()\n",
    "sns.barplot(data=df_dt_features).set(title='Decision Tree Feature Importance')\n",
    "plt.xticks(rotation=90);"
   ]
  },
  {
   "cell_type": "code",
   "execution_count": 25,
   "id": "7942ea7d",
   "metadata": {},
   "outputs": [
    {
     "data": {
      "image/png": "[encoded data removed]",
      "text/plain": [
       "<Figure size 2500x1500 with 3 Axes>"
      ]
     },
     "metadata": {},
     "output_type": "display_data"
    }
   ],
   "source": [
    "# combine all feature plots\n",
    "fig, axs = plt.subplots(figsize=(25, 15),nrows=3)\n",
    "sns.set(font_scale=1.8)\n",
    "sns.barplot(data=df_dt_features,ax=axs[0])\n",
    "sns.barplot(data=df_svc_features,ax=axs[1]).set(title='SVC')\n",
    "sns.barplot(data=df_lr_features,ax=axs[2]).set(title='Logistic Regression')\n",
    "axs[0].set(title='Decision Tree')\n",
    "plt.suptitle(\"Relative Feature Importance by Model\",fontweight='bold')\n",
    "plt.subplots_adjust(left=0.1,\n",
    "                    bottom=0.1,\n",
    "                    right=0.9,\n",
    "                    top=0.9,\n",
    "                    wspace=0.5,\n",
    "                    hspace=0.5\n",
    "                    )\n",
    "\n",
    "plt.savefig('/var/local/data/bank_loan_predictor/images/Relative_Feature_Importance.jpg')\n",
    "plt.show();\n",
    "#plt.tight_layout(pad=5.0)\n",
    "#plt.xticks(rotation=90);"
   ]
  },
  {
   "cell_type": "code",
   "execution_count": 26,
   "id": "18e2f6bf",
   "metadata": {},
   "outputs": [
    {
     "data": {
      "text/html": [
       "<div>\n",
       "<style scoped>\n",
       "    .dataframe tbody tr th:only-of-type {\n",
       "        vertical-align: middle;\n",
       "    }\n",
       "\n",
       "    .dataframe tbody tr th {\n",
       "        vertical-align: top;\n",
       "    }\n",
       "\n",
       "    .dataframe thead th {\n",
       "        text-align: right;\n",
       "    }\n",
       "</style>\n",
       "<table border=\"1\" class=\"dataframe\">\n",
       "  <thead>\n",
       "    <tr style=\"text-align: right;\">\n",
       "      <th></th>\n",
       "      <th>age</th>\n",
       "      <th>job</th>\n",
       "      <th>marital</th>\n",
       "      <th>education</th>\n",
       "      <th>default</th>\n",
       "      <th>balance</th>\n",
       "      <th>housing</th>\n",
       "      <th>loan</th>\n",
       "      <th>contact</th>\n",
       "      <th>day</th>\n",
       "      <th>month</th>\n",
       "      <th>duration</th>\n",
       "      <th>campaign</th>\n",
       "      <th>pdays</th>\n",
       "      <th>previous</th>\n",
       "      <th>poutcome</th>\n",
       "      <th>y</th>\n",
       "    </tr>\n",
       "  </thead>\n",
       "  <tbody>\n",
       "    <tr>\n",
       "      <th>0</th>\n",
       "      <td>58</td>\n",
       "      <td>management</td>\n",
       "      <td>1</td>\n",
       "      <td>3</td>\n",
       "      <td>0</td>\n",
       "      <td>2143</td>\n",
       "      <td>1</td>\n",
       "      <td>0</td>\n",
       "      <td>0</td>\n",
       "      <td>5</td>\n",
       "      <td>5</td>\n",
       "      <td>261</td>\n",
       "      <td>1</td>\n",
       "      <td>-1</td>\n",
       "      <td>0</td>\n",
       "      <td>0</td>\n",
       "      <td>0</td>\n",
       "    </tr>\n",
       "    <tr>\n",
       "      <th>1</th>\n",
       "      <td>44</td>\n",
       "      <td>technician</td>\n",
       "      <td>0</td>\n",
       "      <td>2</td>\n",
       "      <td>0</td>\n",
       "      <td>29</td>\n",
       "      <td>1</td>\n",
       "      <td>0</td>\n",
       "      <td>0</td>\n",
       "      <td>5</td>\n",
       "      <td>5</td>\n",
       "      <td>151</td>\n",
       "      <td>1</td>\n",
       "      <td>-1</td>\n",
       "      <td>0</td>\n",
       "      <td>0</td>\n",
       "      <td>0</td>\n",
       "    </tr>\n",
       "    <tr>\n",
       "      <th>2</th>\n",
       "      <td>33</td>\n",
       "      <td>entrepreneur</td>\n",
       "      <td>1</td>\n",
       "      <td>2</td>\n",
       "      <td>0</td>\n",
       "      <td>2</td>\n",
       "      <td>1</td>\n",
       "      <td>1</td>\n",
       "      <td>0</td>\n",
       "      <td>5</td>\n",
       "      <td>5</td>\n",
       "      <td>76</td>\n",
       "      <td>1</td>\n",
       "      <td>-1</td>\n",
       "      <td>0</td>\n",
       "      <td>0</td>\n",
       "      <td>0</td>\n",
       "    </tr>\n",
       "    <tr>\n",
       "      <th>3</th>\n",
       "      <td>47</td>\n",
       "      <td>blue-collar</td>\n",
       "      <td>1</td>\n",
       "      <td>0</td>\n",
       "      <td>0</td>\n",
       "      <td>1506</td>\n",
       "      <td>1</td>\n",
       "      <td>0</td>\n",
       "      <td>0</td>\n",
       "      <td>5</td>\n",
       "      <td>5</td>\n",
       "      <td>92</td>\n",
       "      <td>1</td>\n",
       "      <td>-1</td>\n",
       "      <td>0</td>\n",
       "      <td>0</td>\n",
       "      <td>0</td>\n",
       "    </tr>\n",
       "    <tr>\n",
       "      <th>4</th>\n",
       "      <td>33</td>\n",
       "      <td>unknown</td>\n",
       "      <td>0</td>\n",
       "      <td>0</td>\n",
       "      <td>0</td>\n",
       "      <td>1</td>\n",
       "      <td>0</td>\n",
       "      <td>0</td>\n",
       "      <td>0</td>\n",
       "      <td>5</td>\n",
       "      <td>5</td>\n",
       "      <td>198</td>\n",
       "      <td>1</td>\n",
       "      <td>-1</td>\n",
       "      <td>0</td>\n",
       "      <td>0</td>\n",
       "      <td>0</td>\n",
       "    </tr>\n",
       "  </tbody>\n",
       "</table>\n",
       "</div>"
      ],
      "text/plain": [
       "   age           job  marital  education  default  balance  housing  loan  \\\n",
       "0   58    management        1          3        0     2143        1     0   \n",
       "1   44    technician        0          2        0       29        1     0   \n",
       "2   33  entrepreneur        1          2        0        2        1     1   \n",
       "3   47   blue-collar        1          0        0     1506        1     0   \n",
       "4   33       unknown        0          0        0        1        0     0   \n",
       "\n",
       "   contact  day  month  duration  campaign  pdays  previous  poutcome  y  \n",
       "0        0    5      5       261         1     -1         0         0  0  \n",
       "1        0    5      5       151         1     -1         0         0  0  \n",
       "2        0    5      5        76         1     -1         0         0  0  \n",
       "3        0    5      5        92         1     -1         0         0  0  \n",
       "4        0    5      5       198         1     -1         0         0  0  "
      ]
     },
     "execution_count": 26,
     "metadata": {},
     "output_type": "execute_result"
    }
   ],
   "source": [
    "df.head()"
   ]
  },
  {
   "cell_type": "code",
   "execution_count": 27,
   "id": "fa0906c7",
   "metadata": {},
   "outputs": [
    {
     "name": "stdout",
     "output_type": "stream",
     "text": [
      "marital\n",
      "-1    0.119455\n",
      " 0    0.149492\n",
      " 1    0.101235\n",
      "Name: y, dtype: float64\n",
      "poutcome\n",
      "-1    0.126097\n",
      " 0    0.095183\n",
      " 1    0.647253\n",
      "Name: y, dtype: float64\n",
      "education\n",
      "0    0.135703\n",
      "1    0.086265\n",
      "2    0.105594\n",
      "3    0.150064\n",
      "Name: y, dtype: float64\n",
      "housing\n",
      "0    0.167024\n",
      "1    0.077000\n",
      "Name: y, dtype: float64\n",
      "contact\n",
      "0    0.040707\n",
      "1    0.147836\n",
      "Name: y, dtype: float64\n",
      "poutcome\n",
      "-1    0.126097\n",
      " 0    0.095183\n",
      " 1    0.647253\n",
      "Name: y, dtype: float64\n"
     ]
    }
   ],
   "source": [
    "#Explore Conversion rates by binary variables\n",
    "# Because they are binary, mean represents their relative conversion rates\n",
    "# Note that previous outcome is the strongest indicator at 64.7%\n",
    "\n",
    "print(df.groupby(['marital'])['y'].mean())\n",
    "print(df.groupby(['poutcome'])['y'].mean())\n",
    "print(df.groupby(['education'])['y'].mean())\n",
    "print(df.groupby(['housing'])['y'].mean())\n",
    "print(df.groupby(['contact'])['y'].mean())\n",
    "print(df.groupby(['poutcome'])['y'].mean())\n"
   ]
  },
  {
   "cell_type": "code",
   "execution_count": 28,
   "id": "fdbe7c8d",
   "metadata": {},
   "outputs": [
    {
     "name": "stdout",
     "output_type": "stream",
     "text": [
      "y\n",
      "0    40.838986\n",
      "1    41.670070\n",
      "Name: age, dtype: float64\n",
      "y\n",
      "0    1303.714969\n",
      "1    1804.267915\n",
      "Name: balance, dtype: float64\n",
      "y\n",
      "0    221.182806\n",
      "1    537.294574\n",
      "Name: duration, dtype: float64\n",
      "258.1630797814691\n"
     ]
    }
   ],
   "source": [
    "# Find split for each continous feature, plan to use the midpoint between two numbers to optimize results\n",
    "# will use > 40 for age\n",
    "# will use 1300 for balance\n",
    "# will use 220 for duration\n",
    "print(df.groupby(['y'])['age'].mean())\n",
    "print(df.groupby(['y'])['balance'].mean())\n",
    "print(df.groupby(['y'])['duration'].mean())\n",
    "print(df['duration'].mean())"
   ]
  },
  {
   "cell_type": "code",
   "execution_count": 30,
   "id": "2886c1c0",
   "metadata": {},
   "outputs": [
    {
     "data": {
      "text/html": [
       "<div>\n",
       "<style scoped>\n",
       "    .dataframe tbody tr th:only-of-type {\n",
       "        vertical-align: middle;\n",
       "    }\n",
       "\n",
       "    .dataframe tbody tr th {\n",
       "        vertical-align: top;\n",
       "    }\n",
       "\n",
       "    .dataframe thead th {\n",
       "        text-align: right;\n",
       "    }\n",
       "</style>\n",
       "<table border=\"1\" class=\"dataframe\">\n",
       "  <thead>\n",
       "    <tr style=\"text-align: right;\">\n",
       "      <th></th>\n",
       "      <th>Job</th>\n",
       "      <th>Conversion_%</th>\n",
       "    </tr>\n",
       "  </thead>\n",
       "  <tbody>\n",
       "    <tr>\n",
       "      <th>1</th>\n",
       "      <td>blue-collar</td>\n",
       "      <td>7.3</td>\n",
       "    </tr>\n",
       "    <tr>\n",
       "      <th>2</th>\n",
       "      <td>entrepreneur</td>\n",
       "      <td>8.3</td>\n",
       "    </tr>\n",
       "    <tr>\n",
       "      <th>3</th>\n",
       "      <td>housemaid</td>\n",
       "      <td>8.8</td>\n",
       "    </tr>\n",
       "    <tr>\n",
       "      <th>7</th>\n",
       "      <td>services</td>\n",
       "      <td>8.9</td>\n",
       "    </tr>\n",
       "    <tr>\n",
       "      <th>9</th>\n",
       "      <td>technician</td>\n",
       "      <td>11.1</td>\n",
       "    </tr>\n",
       "  </tbody>\n",
       "</table>\n",
       "</div>"
      ],
      "text/plain": [
       "            Job  Conversion_%\n",
       "1   blue-collar           7.3\n",
       "2  entrepreneur           8.3\n",
       "3     housemaid           8.8\n",
       "7      services           8.9\n",
       "9    technician          11.1"
      ]
     },
     "execution_count": 30,
     "metadata": {},
     "output_type": "execute_result"
    }
   ],
   "source": [
    "# Build a dataframe to plot conversion rate by job\n",
    "# Note that students and retirees have the highest conversion rates\n",
    "df_jobs=pd.DataFrame(df.groupby('job')['y'].mean())\n",
    "df_jobs=df_jobs.reset_index()\n",
    "df_jobs['y']=round(df_jobs['y']*100,1)\n",
    "df_jobs = df_jobs.rename(columns={'y': 'Conversion_%','job':'Job'})\n",
    "df_jobs=df_jobs.sort_values(by='Conversion_%')\n",
    "df_jobs.head()\n",
    "\n"
   ]
  },
  {
   "cell_type": "code",
   "execution_count": 79,
   "id": "57ef2f7f",
   "metadata": {},
   "outputs": [
    {
     "data": {
      "image/png": "[encoded data removed]",
      "text/plain": [
       "<Figure size 640x480 with 1 Axes>"
      ]
     },
     "metadata": {},
     "output_type": "display_data"
    }
   ],
   "source": [
    "sns.barplot(data=df_jobs, x='Job',y='Conversion_%').set(title='Percent Conversion by Job')\n",
    "sns.set(font_scale=1)\n",
    "plt.xticks(rotation=90)\n",
    "plt.tight_layout()\n",
    "plt.savefig('/var/local/data/bank_loan_predictor/images/Conversion_By_Job.jpg')\n",
    "plt.show();"
   ]
  },
  {
   "cell_type": "code",
   "execution_count": 35,
   "id": "99254689",
   "metadata": {},
   "outputs": [
    {
     "name": "stdout",
     "output_type": "stream",
     "text": [
      "job_cohort mean: 0.24515927545284197 /n\n",
      "original mean: 0.11698480458295547 /n\n"
     ]
    }
   ],
   "source": [
    "# Start exploring cohorts that we can assemble to provide high value targets for the sales team\n",
    "job_cohort=('retired','student')\n",
    "job_cohort_df=df.query('job.isin(@job_cohort)')\n",
    "print('job_cohort mean:',job_cohort_df['y'].mean(),'/n')\n",
    "print('original mean:',df['y'].mean(),'/n')"
   ]
  },
  {
   "cell_type": "code",
   "execution_count": 36,
   "id": "866e6748",
   "metadata": {},
   "outputs": [
    {
     "name": "stdout",
     "output_type": "stream",
     "text": [
      "po_cohort mean: 0.6472534745201853 /n\n",
      "original mean: 0.11698480458295547 /n\n"
     ]
    }
   ],
   "source": [
    "po_cohort_df=df.query('poutcome == 1 ')\n",
    "print('po_cohort mean:',po_cohort_df['y'].mean(),'/n')\n",
    "print('original mean:',df['y'].mean(),'/n')"
   ]
  },
  {
   "cell_type": "code",
   "execution_count": 39,
   "id": "267c31c1",
   "metadata": {},
   "outputs": [
    {
     "name": "stdout",
     "output_type": "stream",
     "text": [
      "duration cohort mean: 0.22932721211127507 /n\n"
     ]
    }
   ],
   "source": [
    "duration_cohort_df=df.query('duration > 220')\n",
    "print('duration cohort mean:',duration_cohort_df['y'].mean(),'/n')"
   ]
  },
  {
   "cell_type": "code",
   "execution_count": 40,
   "id": "a37f02b5",
   "metadata": {},
   "outputs": [
    {
     "name": "stdout",
     "output_type": "stream",
     "text": [
      "low duration cohort mean: 0.040383324632709376 /n\n"
     ]
    }
   ],
   "source": [
    "low_duration_cohort_df=df.query('duration < 220')\n",
    "print('low duration cohort mean:',low_duration_cohort_df['y'].mean(),'/n')"
   ]
  },
  {
   "cell_type": "code",
   "execution_count": 41,
   "id": "867afbbd",
   "metadata": {},
   "outputs": [
    {
     "name": "stdout",
     "output_type": "stream",
     "text": [
      "pdays cohort mean: 0.1881231671554252 /n\n"
     ]
    }
   ],
   "source": [
    "pdays_cohort_df=df.query('pdays > 100')\n",
    "print('pdays cohort mean:',pdays_cohort_df['y'].mean(),'/n')"
   ]
  },
  {
   "cell_type": "code",
   "execution_count": 42,
   "id": "260de0f5",
   "metadata": {},
   "outputs": [
    {
     "name": "stdout",
     "output_type": "stream",
     "text": [
      "student cohort mean: 0.2867803837953092 /n\n"
     ]
    }
   ],
   "source": [
    "student_cohort_df=df.query('job == \"student\"')\n",
    "print('student cohort mean:',student_cohort_df['y'].mean(),'/n')"
   ]
  },
  {
   "cell_type": "code",
   "execution_count": 43,
   "id": "888f1c43",
   "metadata": {},
   "outputs": [
    {
     "name": "stdout",
     "output_type": "stream",
     "text": [
      "not student or retiree cohort mean: 0.1072151205694018 /n\n"
     ]
    }
   ],
   "source": [
    "not_student_retiree_cohort_df=df.query('job != \"student\" and job != \"retired\"')\n",
    "print('not student or retiree cohort mean:',not_student_retiree_cohort_df['y'].mean(),'/n')"
   ]
  },
  {
   "cell_type": "code",
   "execution_count": 44,
   "id": "fe65785d",
   "metadata": {},
   "outputs": [
    {
     "name": "stdout",
     "output_type": "stream",
     "text": [
      "balance cohort mean: 0.15814448171479997 /n\n"
     ]
    }
   ],
   "source": [
    "balance_cohort_df=df.query('balance > 1300')\n",
    "print('balance cohort mean:',balance_cohort_df['y'].mean(),'/n')"
   ]
  },
  {
   "cell_type": "code",
   "execution_count": 45,
   "id": "987a2ede",
   "metadata": {},
   "outputs": [
    {
     "name": "stdout",
     "output_type": "stream",
     "text": [
      "low balance cohort mean: 0.10174630123696338 /n\n"
     ]
    }
   ],
   "source": [
    "low_balance_cohort_df=df.query('balance < 1300')\n",
    "print('low balance cohort mean:',low_balance_cohort_df['y'].mean(),'/n')"
   ]
  },
  {
   "cell_type": "code",
   "execution_count": 46,
   "id": "f007e525",
   "metadata": {},
   "outputs": [
    {
     "name": "stdout",
     "output_type": "stream",
     "text": [
      "housing cohort mean: 0.1670235546038544 /n\n"
     ]
    }
   ],
   "source": [
    "housing_cohort_df=df.query('housing == 0')\n",
    "print('housing cohort mean:',housing_cohort_df['y'].mean(),'/n')"
   ]
  },
  {
   "cell_type": "code",
   "execution_count": 47,
   "id": "723c491f",
   "metadata": {},
   "outputs": [
    {
     "name": "stdout",
     "output_type": "stream",
     "text": [
      "no housing cohort mean: 0.07699960206923995 /n\n"
     ]
    }
   ],
   "source": [
    "no_housing_cohort_df=df.query('housing != 0')\n",
    "print('no housing cohort mean:',no_housing_cohort_df['y'].mean(),'/n')\n"
   ]
  },
  {
   "cell_type": "code",
   "execution_count": 48,
   "id": "ae1eab3c",
   "metadata": {},
   "outputs": [
    {
     "name": "stdout",
     "output_type": "stream",
     "text": [
      "contact cohort mean: 0.14783635177534094 /n\n"
     ]
    }
   ],
   "source": [
    "contact_cohort_df=df.query('contact == 1')\n",
    "print('contact cohort mean:',contact_cohort_df['y'].mean(),'/n')"
   ]
  },
  {
   "cell_type": "code",
   "execution_count": 49,
   "id": "42afbfa7",
   "metadata": {},
   "outputs": [
    {
     "name": "stdout",
     "output_type": "stream",
     "text": [
      "PO Dur Stud cohort mean: 0.8214285714285714 /n\n"
     ]
    }
   ],
   "source": [
    "po_dur_stud_cohort_df=df.query('poutcome==1 and duration > 300 and job == \"student\" ')\n",
    "\n",
    "print('PO Dur Stud cohort mean:',po_dur_stud_cohort_df['y'].mean(),'/n')"
   ]
  },
  {
   "cell_type": "code",
   "execution_count": 50,
   "id": "56208967",
   "metadata": {},
   "outputs": [
    {
     "name": "stdout",
     "output_type": "stream",
     "text": [
      "PO Dur Housing cohort mean: 0.8238213399503722 /n\n"
     ]
    }
   ],
   "source": [
    "po_dur_housing_cohort_df=df.query('poutcome==1 and duration > 300 and housing == 0')\n",
    "\n",
    "print('PO Dur Housing cohort mean:',po_dur_housing_cohort_df['y'].mean(),'/n')"
   ]
  },
  {
   "cell_type": "code",
   "execution_count": 51,
   "id": "bf417da5",
   "metadata": {},
   "outputs": [
    {
     "name": "stdout",
     "output_type": "stream",
     "text": [
      "balance cohort mean: 0.16319412574575493 /n\n"
     ]
    }
   ],
   "source": [
    "balance_cohort_df=df.query('balance > 1500')\n",
    "print('balance cohort mean:',balance_cohort_df['y'].mean(),'/n')"
   ]
  },
  {
   "cell_type": "code",
   "execution_count": 52,
   "id": "6870825f",
   "metadata": {},
   "outputs": [
    {
     "name": "stdout",
     "output_type": "stream",
     "text": [
      "po_dur_cohort mean: 0.7749576988155669 /n\n"
     ]
    }
   ],
   "source": [
    "po_dur_cohort_df=df.query('poutcome == 1 and duration > 300')\n",
    "print('po_dur_cohort mean:',po_dur_cohort_df['y'].mean(),'/n')\n"
   ]
  },
  {
   "cell_type": "code",
   "execution_count": 53,
   "id": "ee5203e1",
   "metadata": {},
   "outputs": [
    {
     "name": "stdout",
     "output_type": "stream",
     "text": [
      "po_dur_stud_cohort mean: 0.8214285714285714 /n\n"
     ]
    }
   ],
   "source": [
    "po_dur_stud_cohort_df=df.query('poutcome == 1 and duration > 300 and job == \"student\"')\n",
    "print('po_dur_stud_cohort mean:',po_dur_stud_cohort_df['y'].mean(),'/n')"
   ]
  },
  {
   "cell_type": "code",
   "execution_count": 54,
   "id": "f27895ec",
   "metadata": {},
   "outputs": [
    {
     "name": "stdout",
     "output_type": "stream",
     "text": [
      "dur_bal_housing_cohort mean: 0.4191220685508118 /n\n"
     ]
    }
   ],
   "source": [
    "dur_bal_housing_cohort_df=df.query('housing == 0 and duration > 300 and balance > 1500')\n",
    "print('dur_bal_housing_cohort mean:',dur_bal_housing_cohort_df['y'].mean(),'/n')"
   ]
  },
  {
   "cell_type": "code",
   "execution_count": 55,
   "id": "e9634e59",
   "metadata": {},
   "outputs": [
    {
     "name": "stdout",
     "output_type": "stream",
     "text": [
      "dur_balance_cohort mean: 0.33770696657294597 /n\n"
     ]
    }
   ],
   "source": [
    "dur_bal_cohort_df=df.query('balance > 1500 and duration > 300')\n",
    "print('dur_balance_cohort mean:',dur_bal_cohort_df['y'].mean(),'/n')"
   ]
  },
  {
   "cell_type": "code",
   "execution_count": 56,
   "id": "591aba31",
   "metadata": {},
   "outputs": [
    {
     "name": "stdout",
     "output_type": "stream",
     "text": [
      "all feature mean: 0.8333333333333334 /n\n"
     ]
    }
   ],
   "source": [
    "all_cohort_df=df.query('balance > 1500 and duration > 300 and job == \"student\" and poutcome ==1 and housing == 0')\n",
    "print('all feature mean:',all_cohort_df['y'].mean(),'/n')"
   ]
  },
  {
   "cell_type": "code",
   "execution_count": 57,
   "id": "2568ec1a",
   "metadata": {},
   "outputs": [
    {
     "data": {
      "text/html": [
       "<div>\n",
       "<style scoped>\n",
       "    .dataframe tbody tr th:only-of-type {\n",
       "        vertical-align: middle;\n",
       "    }\n",
       "\n",
       "    .dataframe tbody tr th {\n",
       "        vertical-align: top;\n",
       "    }\n",
       "\n",
       "    .dataframe thead th {\n",
       "        text-align: right;\n",
       "    }\n",
       "</style>\n",
       "<table border=\"1\" class=\"dataframe\">\n",
       "  <thead>\n",
       "    <tr style=\"text-align: right;\">\n",
       "      <th></th>\n",
       "      <th>Cohort</th>\n",
       "      <th>Percent_Conversion</th>\n",
       "    </tr>\n",
       "  </thead>\n",
       "  <tbody>\n",
       "    <tr>\n",
       "      <th>0</th>\n",
       "      <td>All Customers</td>\n",
       "      <td>11.7</td>\n",
       "    </tr>\n",
       "    <tr>\n",
       "      <th>4</th>\n",
       "      <td>Large Balance Cohort</td>\n",
       "      <td>16.3</td>\n",
       "    </tr>\n",
       "    <tr>\n",
       "      <th>5</th>\n",
       "      <td>Housing Cohort</td>\n",
       "      <td>16.7</td>\n",
       "    </tr>\n",
       "    <tr>\n",
       "      <th>2</th>\n",
       "      <td>Long Duration Cohort</td>\n",
       "      <td>22.9</td>\n",
       "    </tr>\n",
       "    <tr>\n",
       "      <th>3</th>\n",
       "      <td>Student Cohort</td>\n",
       "      <td>28.7</td>\n",
       "    </tr>\n",
       "    <tr>\n",
       "      <th>1</th>\n",
       "      <td>Repeat Customer Cohort</td>\n",
       "      <td>64.7</td>\n",
       "    </tr>\n",
       "  </tbody>\n",
       "</table>\n",
       "</div>"
      ],
      "text/plain": [
       "                   Cohort  Percent_Conversion\n",
       "0           All Customers                11.7\n",
       "4    Large Balance Cohort                16.3\n",
       "5          Housing Cohort                16.7\n",
       "2    Long Duration Cohort                22.9\n",
       "3          Student Cohort                28.7\n",
       "1  Repeat Customer Cohort                64.7"
      ]
     },
     "execution_count": 57,
     "metadata": {},
     "output_type": "execute_result"
    }
   ],
   "source": [
    "# Build a results dataframe to chart the cohort calculations used to support recommendations\n",
    "\n",
    "#build data frame to hold results\n",
    "single_results_df=pd.DataFrame(columns=('Cohort','Percent_Conversion'))\n",
    "\n",
    "# Calculate the conversion rate ('y') of each single cohort\n",
    "single_results_df.loc[len(single_results_df)]=('All Customers',round(100*df['y'].mean(),1))\n",
    "single_results_df.loc[len(single_results_df)]=('Repeat Customer Cohort',round(100*po_cohort_df['y'].mean(),1))\n",
    "single_results_df.loc[len(single_results_df)]=('Long Duration Cohort',round(100*duration_cohort_df['y'].mean(),1))\n",
    "single_results_df.loc[len(single_results_df)]=('Student Cohort',round(100*student_cohort_df['y'].mean(),1))\n",
    "single_results_df.loc[len(single_results_df)]=('Large Balance Cohort',round(100*balance_cohort_df['y'].mean(),1))\n",
    "single_results_df.loc[len(single_results_df)]=('Housing Cohort',round(100*housing_cohort_df['y'].mean(),1))\n",
    "\n",
    "# sort and print\n",
    "single_results_df=single_results_df.sort_values(by='Percent_Conversion',ascending=True)\n",
    "single_results_df.head(20)"
   ]
  },
  {
   "cell_type": "code",
   "execution_count": 58,
   "id": "34d87609",
   "metadata": {},
   "outputs": [
    {
     "data": {
      "text/html": [
       "<div>\n",
       "<style scoped>\n",
       "    .dataframe tbody tr th:only-of-type {\n",
       "        vertical-align: middle;\n",
       "    }\n",
       "\n",
       "    .dataframe tbody tr th {\n",
       "        vertical-align: top;\n",
       "    }\n",
       "\n",
       "    .dataframe thead th {\n",
       "        text-align: right;\n",
       "    }\n",
       "</style>\n",
       "<table border=\"1\" class=\"dataframe\">\n",
       "  <thead>\n",
       "    <tr style=\"text-align: right;\">\n",
       "      <th></th>\n",
       "      <th>Cohort</th>\n",
       "      <th>Percent_Conversion</th>\n",
       "    </tr>\n",
       "  </thead>\n",
       "  <tbody>\n",
       "    <tr>\n",
       "      <th>0</th>\n",
       "      <td>Balance-Duration</td>\n",
       "      <td>33.8</td>\n",
       "    </tr>\n",
       "    <tr>\n",
       "      <th>1</th>\n",
       "      <td>Balance-Duration-Housing</td>\n",
       "      <td>41.9</td>\n",
       "    </tr>\n",
       "    <tr>\n",
       "      <th>2</th>\n",
       "      <td>Repeat-Duration</td>\n",
       "      <td>77.5</td>\n",
       "    </tr>\n",
       "    <tr>\n",
       "      <th>3</th>\n",
       "      <td>Repeat-Duration-Student</td>\n",
       "      <td>82.1</td>\n",
       "    </tr>\n",
       "    <tr>\n",
       "      <th>4</th>\n",
       "      <td>Repeat-Duration-Housing</td>\n",
       "      <td>82.4</td>\n",
       "    </tr>\n",
       "  </tbody>\n",
       "</table>\n",
       "</div>"
      ],
      "text/plain": [
       "                     Cohort  Percent_Conversion\n",
       "0          Balance-Duration                33.8\n",
       "1  Balance-Duration-Housing                41.9\n",
       "2           Repeat-Duration                77.5\n",
       "3   Repeat-Duration-Student                82.1\n",
       "4   Repeat-Duration-Housing                82.4"
      ]
     },
     "execution_count": 58,
     "metadata": {},
     "output_type": "execute_result"
    }
   ],
   "source": [
    "# build data frame for blended results\n",
    "blended_results_df=pd.DataFrame(columns=('Cohort','Percent_Conversion'))\n",
    "\n",
    "#calculate blended conversion rates as mean of 'y'\n",
    "blended_results_df.loc[len(blended_results_df)]=('Balance-Duration',round(100*dur_bal_cohort_df['y'].mean(),1))\n",
    "blended_results_df.loc[len(blended_results_df)]=('Balance-Duration-Housing',round(100*dur_bal_housing_cohort_df['y'].mean(),1))\n",
    "blended_results_df.loc[len(blended_results_df)]=('Repeat-Duration',round(100*po_dur_cohort_df['y'].mean(),1))\n",
    "blended_results_df.loc[len(blended_results_df)]=('Repeat-Duration-Student',round(100*po_dur_stud_cohort_df['y'].mean(),1))\n",
    "blended_results_df.loc[len(blended_results_df)]=('Repeat-Duration-Housing',round(100*po_dur_housing_cohort_df['y'].mean(),1))\n",
    "\n",
    "\n",
    "\n",
    "#sort and print \n",
    "blended_results_df=blended_results_df.sort_values(by='Percent_Conversion',ascending=True)\n",
    "blended_results_df.head(20)\n"
   ]
  },
  {
   "cell_type": "code",
   "execution_count": 73,
   "id": "490bc9ef",
   "metadata": {},
   "outputs": [
    {
     "data": {
      "image/png": "[encoded data removed]",
      "text/plain": [
       "<Figure size 640x480 with 1 Axes>"
      ]
     },
     "metadata": {},
     "output_type": "display_data"
    }
   ],
   "source": [
    "sns.barplot(data=single_results_df, x='Cohort',y='Percent_Conversion').set(title='Percent Conversion by Single Feature Cohorts')\n",
    "sns.set(font_scale=1)\n",
    "plt.xticks(rotation=90)\n",
    "plt.tight_layout()\n",
    "plt.savefig('/var/local/data/bank_loan_predictor/images/Conversion_By_Cohort.jpg')\n",
    "plt.show();"
   ]
  },
  {
   "cell_type": "code",
   "execution_count": 69,
   "id": "00b98059",
   "metadata": {},
   "outputs": [
    {
     "data": {
      "image/png": "[encoded data removed]",
      "text/plain": [
       "<Figure size 640x480 with 1 Axes>"
      ]
     },
     "metadata": {},
     "output_type": "display_data"
    }
   ],
   "source": [
    "sns.barplot(data=blended_results_df, x='Cohort',y='Percent_Conversion').set(title='Percent Conversion by Blended Feature Cohorts')\n",
    "sns.set(font_scale=1)\n",
    "plt.xticks(rotation=45)\n",
    "plt.tight_layout()\n",
    "plt.savefig('/var/local/data/bank_loan_predictor/images/Conversion_By_Blended_Cohort.jpg')\n",
    "plt.show();"
   ]
  },
  {
   "cell_type": "code",
   "execution_count": 68,
   "id": "4f517678",
   "metadata": {},
   "outputs": [],
   "source": [
    "##########  APPENDIX   ###########\n",
    "#########   WARNING   ############\n",
    "## LONG RUNNING PROCESSESS AHEAD!  ##\n",
    "#########   WARNING   ############\n",
    "##########  APPENDIX   ###########"
   ]
  },
  {
   "cell_type": "code",
   "execution_count": 81,
   "id": "7292fd35",
   "metadata": {},
   "outputs": [],
   "source": [
    "# Build training and test datasets for previous outcome, modeling cohorts.  \n",
    "# Compare model precision to manual stacking completed above\n",
    "X_cohort_pcd=po_dur_stud_cohort_df.drop(['y','job'],axis=1)\n",
    "y_cohort_pcd=po_dur_stud_cohort_df['y']\n",
    "X_cohort_pcd_train, X_cohort_pcd_test, y_cohort_pcd_train, y_cohort_pcd_test = train_test_split(X_cohort_pcd, y_cohort_pcd, test_size=0.33, random_state=42)"
   ]
  },
  {
   "cell_type": "code",
   "execution_count": 83,
   "id": "0ea3f442",
   "metadata": {},
   "outputs": [
    {
     "name": "stdout",
     "output_type": "stream",
     "text": [
      "CPU times: user 2 µs, sys: 2 µs, total: 4 µs\n",
      "Wall time: 6.91 µs\n",
      "0.875\n"
     ]
    }
   ],
   "source": [
    "# 87.5% percent precision as measured by model is slightly higher than 82.1% as measured by manual predictions\n",
    "%time\n",
    "pipe_dt_cohort=Pipeline([('scale',StandardScaler()),('dt',DecisionTreeClassifier())])\n",
    "pipe_dt_cohort.fit(X_cohort_pcd_train,y_cohort_pcd_train)\n",
    "preds_dt_cohort_pcd=pipe_dt_cohort.predict(X_cohort_pcd_test)\n",
    "print(precision_score(y_cohort_pcd_test,preds_dt_cohort_pcd))\n",
    "\n"
   ]
  },
  {
   "cell_type": "code",
   "execution_count": null,
   "id": "0bd453ed",
   "metadata": {},
   "outputs": [],
   "source": [
    "#########   WARNING  >1 minute run time ############\n",
    "#### UNCOMMENT TO RUN ########\n",
    "### Sample Result Below\n",
    "###: {'knn__n_neighbors': 5}\n",
    "\n",
    "#%time\n",
    "#k_range = list(range(2, 32,3))\n",
    "##param_grid = dict(n_neighbors=k_range)\n",
    "#parameters = {'knn__n_neighbors': k_range}\n",
    "\n",
    "  \n",
    "## defining parameter range\n",
    "#grid = GridSearchCV(pipe_knn, parameters, scoring='precision', return_train_score=False,verbose=1)\n",
    "  \n",
    "## fitting the model for grid search\n",
    "#grid_search=grid.fit(X_train, y_train)\n",
    "\n",
    "## best value for k\n",
    "#print('###:',grid_search.best_params_)"
   ]
  },
  {
   "cell_type": "code",
   "execution_count": null,
   "id": "5dd9fa8b",
   "metadata": {},
   "outputs": [],
   "source": [
    "#########   WARNING  > 5 minute run time ############\n",
    "#### UNCOMMENT TO RUN ########\n",
    "### Sample Result Below\n",
    "###: {'svc_lr__C': 5}\n",
    "\n",
    "#%time\n",
    "#c_range =[0.1,0.5,1.0,5] \n",
    "#parameters = {'svc_lr__C': c_range}\n",
    "\n",
    "  \n",
    "## defining parameter range\n",
    "#grid_svc = GridSearchCV(pipe_svc_lr, parameters, scoring='precision', return_train_score=False,verbose=1)\n",
    "  \n",
    "##fitting the model for grid search\n",
    "#grid_search_svc=grid_svc.fit(X_train, y_train)\n",
    "\n",
    "## best value for k\n",
    "#print('###:',grid_search_svc.best_params_)"
   ]
  },
  {
   "cell_type": "code",
   "execution_count": null,
   "id": "20f4ccec",
   "metadata": {},
   "outputs": [],
   "source": []
  }
 ],
 "metadata": {
  "kernelspec": {
   "display_name": "Python 3 (ipykernel)",
   "language": "python",
   "name": "python3"
  },
  "language_info": {
   "codemirror_mode": {
    "name": "ipython",
    "version": 3
   },
   "file_extension": ".py",
   "mimetype": "text/x-python",
   "name": "python",
   "nbconvert_exporter": "python",
   "pygments_lexer": "ipython3",
   "version": "3.9.13"
  }
 },
 "nbformat": 4,
 "nbformat_minor": 5
}
